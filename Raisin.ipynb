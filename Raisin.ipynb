{
 "cells": [
  {
   "cell_type": "code",
   "execution_count": 50,
   "id": "7129f2aa",
   "metadata": {},
   "outputs": [
    {
     "data": {
      "text/html": [
       "<div>\n",
       "<style scoped>\n",
       "    .dataframe tbody tr th:only-of-type {\n",
       "        vertical-align: middle;\n",
       "    }\n",
       "\n",
       "    .dataframe tbody tr th {\n",
       "        vertical-align: top;\n",
       "    }\n",
       "\n",
       "    .dataframe thead th {\n",
       "        text-align: right;\n",
       "    }\n",
       "</style>\n",
       "<table border=\"1\" class=\"dataframe\">\n",
       "  <thead>\n",
       "    <tr style=\"text-align: right;\">\n",
       "      <th></th>\n",
       "      <th>Area</th>\n",
       "      <th>Perimeter</th>\n",
       "      <th>MajorAxisLength</th>\n",
       "      <th>MinorAxisLength</th>\n",
       "      <th>Eccentricity</th>\n",
       "      <th>ConvexArea</th>\n",
       "      <th>Extent</th>\n",
       "      <th>class</th>\n",
       "    </tr>\n",
       "  </thead>\n",
       "  <tbody>\n",
       "    <tr>\n",
       "      <th>0</th>\n",
       "      <td>87524</td>\n",
       "      <td>442.246011</td>\n",
       "      <td>253.291155</td>\n",
       "      <td>0.819738</td>\n",
       "      <td>90546</td>\n",
       "      <td>0.758651</td>\n",
       "      <td>1184.04</td>\n",
       "      <td>Kecimen</td>\n",
       "    </tr>\n",
       "    <tr>\n",
       "      <th>1</th>\n",
       "      <td>75166</td>\n",
       "      <td>406.690687</td>\n",
       "      <td>243.032436</td>\n",
       "      <td>0.801805</td>\n",
       "      <td>78789</td>\n",
       "      <td>0.68413</td>\n",
       "      <td>1121.786</td>\n",
       "      <td>Kecimen</td>\n",
       "    </tr>\n",
       "    <tr>\n",
       "      <th>2</th>\n",
       "      <td>90856</td>\n",
       "      <td>442.267048</td>\n",
       "      <td>266.328318</td>\n",
       "      <td>0.798354</td>\n",
       "      <td>93717</td>\n",
       "      <td>0.637613</td>\n",
       "      <td>1208.575</td>\n",
       "      <td>Kecimen</td>\n",
       "    </tr>\n",
       "    <tr>\n",
       "      <th>3</th>\n",
       "      <td>45928</td>\n",
       "      <td>286.540559</td>\n",
       "      <td>208.760042</td>\n",
       "      <td>0.684989</td>\n",
       "      <td>47336</td>\n",
       "      <td>0.699599</td>\n",
       "      <td>844.162</td>\n",
       "      <td>Kecimen</td>\n",
       "    </tr>\n",
       "    <tr>\n",
       "      <th>4</th>\n",
       "      <td>79408</td>\n",
       "      <td>352.19077</td>\n",
       "      <td>290.827533</td>\n",
       "      <td>0.564011</td>\n",
       "      <td>81463</td>\n",
       "      <td>0.792772</td>\n",
       "      <td>1073.251</td>\n",
       "      <td>Kecimen</td>\n",
       "    </tr>\n",
       "  </tbody>\n",
       "</table>\n",
       "</div>"
      ],
      "text/plain": [
       "    Area   Perimeter MajorAxisLength MinorAxisLength Eccentricity ConvexArea  \\\n",
       "0  87524  442.246011      253.291155        0.819738        90546   0.758651   \n",
       "1  75166  406.690687      243.032436        0.801805        78789    0.68413   \n",
       "2  90856  442.267048      266.328318        0.798354        93717   0.637613   \n",
       "3  45928  286.540559      208.760042        0.684989        47336   0.699599   \n",
       "4  79408   352.19077      290.827533        0.564011        81463   0.792772   \n",
       "\n",
       "     Extent    class  \n",
       "0   1184.04  Kecimen  \n",
       "1  1121.786  Kecimen  \n",
       "2  1208.575  Kecimen  \n",
       "3   844.162  Kecimen  \n",
       "4  1073.251  Kecimen  "
      ]
     },
     "execution_count": 50,
     "metadata": {},
     "output_type": "execute_result"
    }
   ],
   "source": [
    "import pandas as pd \n",
    "import numpy as np\n",
    "import matplotlib.pyplot as plt\n",
    "import seaborn as sns \n",
    "from sklearn.model_selection import train_test_split\n",
    "from sklearn.preprocessing import LabelEncoder\n",
    "from sklearn.linear_model import LogisticRegression\n",
    "from sklearn.pipeline import make_pipeline\n",
    "from sklearn.preprocessing import OneHotEncoder\n",
    "from sklearn.compose import make_column_transformer\n",
    "\n",
    "\n",
    "features = [\"Area\",\"Perimeter\",\"MajorAxisLength\",\"MinorAxisLength\",\"Eccentricity\",\"ConvexArea\",\"Extent\",\"class\"]\n",
    "df_data = pd.read_csv('C:/Users/jhjjh/Downloads/Raisin_Dataset.csv')\n",
    "df_data = df_data.to_numpy()\n",
    "df = pd.DataFrame(df_data, columns=features)\n",
    "df.head()"
   ]
  },
  {
   "cell_type": "code",
   "execution_count": 51,
   "id": "5a63815b",
   "metadata": {},
   "outputs": [
    {
     "data": {
      "text/plain": [
       "Area               0\n",
       "Perimeter          0\n",
       "MajorAxisLength    0\n",
       "MinorAxisLength    0\n",
       "Eccentricity       0\n",
       "ConvexArea         0\n",
       "Extent             0\n",
       "class              0\n",
       "dtype: int64"
      ]
     },
     "execution_count": 51,
     "metadata": {},
     "output_type": "execute_result"
    }
   ],
   "source": [
    "df.isnull().sum()"
   ]
  },
  {
   "cell_type": "code",
   "execution_count": 52,
   "id": "e8ec1685",
   "metadata": {},
   "outputs": [
    {
     "data": {
      "text/plain": [
       "<AxesSubplot:xlabel='class', ylabel='count'>"
      ]
     },
     "execution_count": 52,
     "metadata": {},
     "output_type": "execute_result"
    },
    {
     "data": {
      "image/png": "[encoded data removed]",
      "text/plain": [
       "<Figure size 432x288 with 1 Axes>"
      ]
     },
     "metadata": {
      "needs_background": "light"
     },
     "output_type": "display_data"
    }
   ],
   "source": [
    "sns.countplot(data=df,x=\"class\" )"
   ]
  },
  {
   "cell_type": "code",
   "execution_count": 53,
   "id": "88e27850",
   "metadata": {},
   "outputs": [
    {
     "data": {
      "text/plain": [
       "Kecimen    450\n",
       "Besni      450\n",
       "Name: class, dtype: int64"
      ]
     },
     "execution_count": 53,
     "metadata": {},
     "output_type": "execute_result"
    }
   ],
   "source": [
    "df[\"class\"].value_counts()"
   ]
  },
  {
   "cell_type": "code",
   "execution_count": 54,
   "id": "efcb15f0",
   "metadata": {},
   "outputs": [
    {
     "data": {
      "text/html": [
       "<div>\n",
       "<style scoped>\n",
       "    .dataframe tbody tr th:only-of-type {\n",
       "        vertical-align: middle;\n",
       "    }\n",
       "\n",
       "    .dataframe tbody tr th {\n",
       "        vertical-align: top;\n",
       "    }\n",
       "\n",
       "    .dataframe thead th {\n",
       "        text-align: right;\n",
       "    }\n",
       "</style>\n",
       "<table border=\"1\" class=\"dataframe\">\n",
       "  <thead>\n",
       "    <tr style=\"text-align: right;\">\n",
       "      <th></th>\n",
       "      <th>Area</th>\n",
       "      <th>Perimeter</th>\n",
       "      <th>MajorAxisLength</th>\n",
       "      <th>MinorAxisLength</th>\n",
       "      <th>Eccentricity</th>\n",
       "      <th>ConvexArea</th>\n",
       "      <th>Extent</th>\n",
       "      <th>class</th>\n",
       "    </tr>\n",
       "  </thead>\n",
       "  <tbody>\n",
       "    <tr>\n",
       "      <th>0</th>\n",
       "      <td>551</td>\n",
       "      <td>553</td>\n",
       "      <td>500</td>\n",
       "      <td>558</td>\n",
       "      <td>542</td>\n",
       "      <td>811</td>\n",
       "      <td>544</td>\n",
       "      <td>1</td>\n",
       "    </tr>\n",
       "    <tr>\n",
       "      <th>1</th>\n",
       "      <td>404</td>\n",
       "      <td>446</td>\n",
       "      <td>409</td>\n",
       "      <td>469</td>\n",
       "      <td>413</td>\n",
       "      <td>299</td>\n",
       "      <td>453</td>\n",
       "      <td>1</td>\n",
       "    </tr>\n",
       "    <tr>\n",
       "      <th>2</th>\n",
       "      <td>583</td>\n",
       "      <td>554</td>\n",
       "      <td>581</td>\n",
       "      <td>448</td>\n",
       "      <td>571</td>\n",
       "      <td>102</td>\n",
       "      <td>573</td>\n",
       "      <td>1</td>\n",
       "    </tr>\n",
       "    <tr>\n",
       "      <th>3</th>\n",
       "      <td>74</td>\n",
       "      <td>54</td>\n",
       "      <td>159</td>\n",
       "      <td>108</td>\n",
       "      <td>68</td>\n",
       "      <td>394</td>\n",
       "      <td>66</td>\n",
       "      <td>1</td>\n",
       "    </tr>\n",
       "    <tr>\n",
       "      <th>4</th>\n",
       "      <td>462</td>\n",
       "      <td>254</td>\n",
       "      <td>709</td>\n",
       "      <td>33</td>\n",
       "      <td>445</td>\n",
       "      <td>890</td>\n",
       "      <td>382</td>\n",
       "      <td>1</td>\n",
       "    </tr>\n",
       "  </tbody>\n",
       "</table>\n",
       "</div>"
      ],
      "text/plain": [
       "   Area  Perimeter  MajorAxisLength  MinorAxisLength  Eccentricity  \\\n",
       "0   551        553              500              558           542   \n",
       "1   404        446              409              469           413   \n",
       "2   583        554              581              448           571   \n",
       "3    74         54              159              108            68   \n",
       "4   462        254              709               33           445   \n",
       "\n",
       "   ConvexArea  Extent  class  \n",
       "0         811     544      1  \n",
       "1         299     453      1  \n",
       "2         102     573      1  \n",
       "3         394      66      1  \n",
       "4         890     382      1  "
      ]
     },
     "execution_count": 54,
     "metadata": {},
     "output_type": "execute_result"
    }
   ],
   "source": [
    "le = LabelEncoder()\n",
    "for i in df.columns:\n",
    "    df[i] = le.fit_transform(df[i])\n",
    "    \n",
    "df.head()"
   ]
  },
  {
   "cell_type": "code",
   "execution_count": 61,
   "id": "6ee3e304",
   "metadata": {},
   "outputs": [],
   "source": [
    "#Splitting the data into training and test test\n",
    "X = df.iloc[:,0:7].values\n",
    "y = df.iloc[:,7].values\n",
    "\n",
    "from sklearn.preprocessing import LabelEncoder\n",
    "encoder =  LabelEncoder()\n",
    "y1 = encoder.fit_transform(y)\n",
    "\n",
    "Y = pd.get_dummies(y1).values\n",
    "\n",
    "\n",
    "from sklearn.model_selection import train_test_split\n",
    "X_train,X_test, y_train,y_test = train_test_split(X,Y,test_size=0.2,random_state=0) "
   ]
  },
  {
   "cell_type": "code",
   "execution_count": 62,
   "id": "58f5b660",
   "metadata": {},
   "outputs": [
    {
     "data": {
      "text/plain": [
       "array([[551, 553, 500, ..., 542, 811, 544],\n",
       "       [404, 446, 409, ..., 413, 299, 453],\n",
       "       [583, 554, 581, ..., 571, 102, 573],\n",
       "       ...,\n",
       "       [640, 517, 739, ..., 650, 722, 656],\n",
       "       [600, 633, 506, ..., 600, 177, 622],\n",
       "       [529, 706, 200, ..., 532,  82, 643]])"
      ]
     },
     "execution_count": 62,
     "metadata": {},
     "output_type": "execute_result"
    }
   ],
   "source": [
    "X"
   ]
  },
  {
   "cell_type": "code",
   "execution_count": 63,
   "id": "10147e31",
   "metadata": {},
   "outputs": [
    {
     "data": {
      "text/plain": [
       "array([[0, 1],\n",
       "       [0, 1],\n",
       "       [0, 1],\n",
       "       ...,\n",
       "       [1, 0],\n",
       "       [1, 0],\n",
       "       [1, 0]], dtype=uint8)"
      ]
     },
     "execution_count": 63,
     "metadata": {},
     "output_type": "execute_result"
    }
   ],
   "source": [
    "Y"
   ]
  },
  {
   "cell_type": "code",
   "execution_count": 64,
   "id": "ce361330",
   "metadata": {},
   "outputs": [],
   "source": [
    "from sklearn.preprocessing import LabelEncoder\n",
    "encoder =  LabelEncoder()\n",
    "y1 = encoder.fit_transform(y)\n"
   ]
  },
  {
   "cell_type": "code",
   "execution_count": 65,
   "id": "52f4035d",
   "metadata": {},
   "outputs": [
    {
     "name": "stdout",
     "output_type": "stream",
     "text": [
      "Model: \"sequential_6\"\n",
      "_________________________________________________________________\n",
      " Layer (type)                Output Shape              Param #   \n",
      "=================================================================\n",
      " dense_30 (Dense)            (None, 10)                80        \n",
      "                                                                 \n",
      " dense_31 (Dense)            (None, 8)                 88        \n",
      "                                                                 \n",
      " dense_32 (Dense)            (None, 8)                 72        \n",
      "                                                                 \n",
      " dense_33 (Dense)            (None, 8)                 72        \n",
      "                                                                 \n",
      " dense_34 (Dense)            (None, 2)                 18        \n",
      "                                                                 \n",
      "=================================================================\n",
      "Total params: 330\n",
      "Trainable params: 330\n",
      "Non-trainable params: 0\n",
      "_________________________________________________________________\n"
     ]
    }
   ],
   "source": [
    "from keras.models import Sequential\n",
    "from keras.layers import Dense\n",
    "from keras.optimizers import SGD,Adam\n",
    "\n",
    "\n",
    "model = Sequential()\n",
    "\n",
    "model.add(Dense(10,input_shape=(7,),activation='relu'))\n",
    "model.add(Dense(8,activation='relu'))\n",
    "model.add(Dense(8,activation='relu'))\n",
    "model.add(Dense(8,activation='relu'))\n",
    "model.add(Dense(2,activation='sigmoid'))\n",
    "\n",
    "model.compile(Adam(lr=0.001),'binary_crossentropy',metrics=['accuracy'])\n",
    "\n",
    "model.summary()"
   ]
  },
  {
   "cell_type": "code",
   "execution_count": 66,
   "id": "94e4f74a",
   "metadata": {},
   "outputs": [
    {
     "name": "stdout",
     "output_type": "stream",
     "text": [
      "Epoch 1/100\n",
      "23/23 [==============================] - 2s 26ms/step - loss: 29.4756 - accuracy: 0.4903 - val_loss: 18.0610 - val_accuracy: 0.5500\n",
      "Epoch 2/100\n",
      "23/23 [==============================] - 0s 7ms/step - loss: 12.8921 - accuracy: 0.4972 - val_loss: 8.3281 - val_accuracy: 0.5389\n",
      "Epoch 3/100\n",
      "23/23 [==============================] - 0s 7ms/step - loss: 5.7809 - accuracy: 0.5208 - val_loss: 4.0308 - val_accuracy: 0.5500\n",
      "Epoch 4/100\n",
      "23/23 [==============================] - 0s 7ms/step - loss: 2.7289 - accuracy: 0.5208 - val_loss: 2.0083 - val_accuracy: 0.4833\n",
      "Epoch 5/100\n",
      "23/23 [==============================] - 0s 7ms/step - loss: 1.4663 - accuracy: 0.4972 - val_loss: 1.2629 - val_accuracy: 0.6056\n",
      "Epoch 6/100\n",
      "23/23 [==============================] - 0s 7ms/step - loss: 1.0557 - accuracy: 0.6194 - val_loss: 0.9556 - val_accuracy: 0.6500\n",
      "Epoch 7/100\n",
      "23/23 [==============================] - 0s 7ms/step - loss: 0.9269 - accuracy: 0.6667 - val_loss: 0.8607 - val_accuracy: 0.6833\n",
      "Epoch 8/100\n",
      "23/23 [==============================] - 0s 7ms/step - loss: 0.8460 - accuracy: 0.6667 - val_loss: 0.7895 - val_accuracy: 0.6944\n",
      "Epoch 9/100\n",
      "23/23 [==============================] - 0s 8ms/step - loss: 0.7898 - accuracy: 0.6819 - val_loss: 0.7348 - val_accuracy: 0.7222\n",
      "Epoch 10/100\n",
      "23/23 [==============================] - 0s 7ms/step - loss: 0.7416 - accuracy: 0.7000 - val_loss: 0.6906 - val_accuracy: 0.7278\n",
      "Epoch 11/100\n",
      "23/23 [==============================] - 0s 6ms/step - loss: 0.7043 - accuracy: 0.7000 - val_loss: 0.6601 - val_accuracy: 0.7444\n",
      "Epoch 12/100\n",
      "23/23 [==============================] - 0s 7ms/step - loss: 0.6768 - accuracy: 0.7153 - val_loss: 0.6279 - val_accuracy: 0.7444\n",
      "Epoch 13/100\n",
      "23/23 [==============================] - 0s 6ms/step - loss: 0.6458 - accuracy: 0.7222 - val_loss: 0.5854 - val_accuracy: 0.7722\n",
      "Epoch 14/100\n",
      "23/23 [==============================] - 0s 8ms/step - loss: 0.6232 - accuracy: 0.7319 - val_loss: 0.5628 - val_accuracy: 0.7778\n",
      "Epoch 15/100\n",
      "23/23 [==============================] - 0s 7ms/step - loss: 0.5966 - accuracy: 0.7458 - val_loss: 0.5357 - val_accuracy: 0.7889\n",
      "Epoch 16/100\n",
      "23/23 [==============================] - 0s 7ms/step - loss: 0.5763 - accuracy: 0.7514 - val_loss: 0.5353 - val_accuracy: 0.7944\n",
      "Epoch 17/100\n",
      "23/23 [==============================] - 0s 8ms/step - loss: 0.5644 - accuracy: 0.7625 - val_loss: 0.5224 - val_accuracy: 0.7889\n",
      "Epoch 18/100\n",
      "23/23 [==============================] - 0s 6ms/step - loss: 0.5558 - accuracy: 0.7667 - val_loss: 0.4896 - val_accuracy: 0.8222\n",
      "Epoch 19/100\n",
      "23/23 [==============================] - 0s 7ms/step - loss: 0.5306 - accuracy: 0.7708 - val_loss: 0.4792 - val_accuracy: 0.8278\n",
      "Epoch 20/100\n",
      "23/23 [==============================] - 0s 7ms/step - loss: 0.5203 - accuracy: 0.7806 - val_loss: 0.4865 - val_accuracy: 0.8167\n",
      "Epoch 21/100\n",
      "23/23 [==============================] - 0s 7ms/step - loss: 0.5177 - accuracy: 0.7833 - val_loss: 0.4887 - val_accuracy: 0.8111\n",
      "Epoch 22/100\n",
      "23/23 [==============================] - 0s 6ms/step - loss: 0.5087 - accuracy: 0.7778 - val_loss: 0.4567 - val_accuracy: 0.8333\n",
      "Epoch 23/100\n",
      "23/23 [==============================] - 0s 6ms/step - loss: 0.4997 - accuracy: 0.7861 - val_loss: 0.4777 - val_accuracy: 0.8111\n",
      "Epoch 24/100\n",
      "23/23 [==============================] - 0s 7ms/step - loss: 0.5042 - accuracy: 0.7847 - val_loss: 0.4505 - val_accuracy: 0.8333\n",
      "Epoch 25/100\n",
      "23/23 [==============================] - 0s 6ms/step - loss: 0.4940 - accuracy: 0.7875 - val_loss: 0.4511 - val_accuracy: 0.8389\n",
      "Epoch 26/100\n",
      "23/23 [==============================] - 0s 7ms/step - loss: 0.4897 - accuracy: 0.7875 - val_loss: 0.4543 - val_accuracy: 0.8222\n",
      "Epoch 27/100\n",
      "23/23 [==============================] - 0s 7ms/step - loss: 0.4831 - accuracy: 0.7917 - val_loss: 0.4362 - val_accuracy: 0.8389\n",
      "Epoch 28/100\n",
      "23/23 [==============================] - 0s 8ms/step - loss: 0.4798 - accuracy: 0.7833 - val_loss: 0.4380 - val_accuracy: 0.8444\n",
      "Epoch 29/100\n",
      "23/23 [==============================] - 0s 6ms/step - loss: 0.4809 - accuracy: 0.7931 - val_loss: 0.4393 - val_accuracy: 0.8444\n",
      "Epoch 30/100\n",
      "23/23 [==============================] - 0s 6ms/step - loss: 0.4804 - accuracy: 0.7875 - val_loss: 0.4303 - val_accuracy: 0.8333\n",
      "Epoch 31/100\n",
      "23/23 [==============================] - 0s 6ms/step - loss: 0.4806 - accuracy: 0.7903 - val_loss: 0.4284 - val_accuracy: 0.8444\n",
      "Epoch 32/100\n",
      "23/23 [==============================] - 0s 6ms/step - loss: 0.4686 - accuracy: 0.7958 - val_loss: 0.4274 - val_accuracy: 0.8444\n",
      "Epoch 33/100\n",
      "23/23 [==============================] - 0s 7ms/step - loss: 0.4774 - accuracy: 0.7875 - val_loss: 0.4285 - val_accuracy: 0.8444\n",
      "Epoch 34/100\n",
      "23/23 [==============================] - 0s 5ms/step - loss: 0.4707 - accuracy: 0.7889 - val_loss: 0.4279 - val_accuracy: 0.8389\n",
      "Epoch 35/100\n",
      "23/23 [==============================] - 0s 6ms/step - loss: 0.4639 - accuracy: 0.7972 - val_loss: 0.4308 - val_accuracy: 0.8389\n",
      "Epoch 36/100\n",
      "23/23 [==============================] - 0s 6ms/step - loss: 0.4662 - accuracy: 0.8014 - val_loss: 0.4418 - val_accuracy: 0.8056\n",
      "Epoch 37/100\n",
      "23/23 [==============================] - 0s 6ms/step - loss: 0.4592 - accuracy: 0.8000 - val_loss: 0.4224 - val_accuracy: 0.8444\n",
      "Epoch 38/100\n",
      "23/23 [==============================] - 0s 6ms/step - loss: 0.4615 - accuracy: 0.8056 - val_loss: 0.4245 - val_accuracy: 0.8278\n",
      "Epoch 39/100\n",
      "23/23 [==============================] - 0s 6ms/step - loss: 0.4561 - accuracy: 0.7917 - val_loss: 0.4238 - val_accuracy: 0.8333\n",
      "Epoch 40/100\n",
      "23/23 [==============================] - 0s 6ms/step - loss: 0.4548 - accuracy: 0.8125 - val_loss: 0.4238 - val_accuracy: 0.8278\n",
      "Epoch 41/100\n",
      "23/23 [==============================] - 0s 7ms/step - loss: 0.4489 - accuracy: 0.8097 - val_loss: 0.4309 - val_accuracy: 0.8167\n",
      "Epoch 42/100\n",
      "23/23 [==============================] - 0s 6ms/step - loss: 0.4506 - accuracy: 0.8000 - val_loss: 0.4163 - val_accuracy: 0.8333\n",
      "Epoch 43/100\n",
      "23/23 [==============================] - 0s 7ms/step - loss: 0.4494 - accuracy: 0.8069 - val_loss: 0.4117 - val_accuracy: 0.8389\n",
      "Epoch 44/100\n",
      "23/23 [==============================] - 0s 7ms/step - loss: 0.4449 - accuracy: 0.8153 - val_loss: 0.4328 - val_accuracy: 0.8111\n",
      "Epoch 45/100\n",
      "23/23 [==============================] - 0s 6ms/step - loss: 0.4445 - accuracy: 0.8028 - val_loss: 0.4095 - val_accuracy: 0.8444\n",
      "Epoch 46/100\n",
      "23/23 [==============================] - 0s 6ms/step - loss: 0.4388 - accuracy: 0.8139 - val_loss: 0.4113 - val_accuracy: 0.8278\n",
      "Epoch 47/100\n",
      "23/23 [==============================] - 0s 6ms/step - loss: 0.4356 - accuracy: 0.8194 - val_loss: 0.4048 - val_accuracy: 0.8444\n",
      "Epoch 48/100\n",
      "23/23 [==============================] - 0s 6ms/step - loss: 0.4352 - accuracy: 0.8139 - val_loss: 0.4034 - val_accuracy: 0.8444\n",
      "Epoch 49/100\n",
      "23/23 [==============================] - 0s 7ms/step - loss: 0.4371 - accuracy: 0.8083 - val_loss: 0.4034 - val_accuracy: 0.8333\n",
      "Epoch 50/100\n",
      "23/23 [==============================] - 0s 7ms/step - loss: 0.4344 - accuracy: 0.8167 - val_loss: 0.4024 - val_accuracy: 0.8333\n",
      "Epoch 51/100\n",
      "23/23 [==============================] - 0s 6ms/step - loss: 0.4281 - accuracy: 0.8208 - val_loss: 0.3994 - val_accuracy: 0.8444\n",
      "Epoch 52/100\n",
      "23/23 [==============================] - 0s 6ms/step - loss: 0.4284 - accuracy: 0.8167 - val_loss: 0.4104 - val_accuracy: 0.8389\n",
      "Epoch 53/100\n",
      "23/23 [==============================] - 0s 7ms/step - loss: 0.4270 - accuracy: 0.8208 - val_loss: 0.3966 - val_accuracy: 0.8444\n",
      "Epoch 54/100\n",
      "23/23 [==============================] - 0s 7ms/step - loss: 0.4235 - accuracy: 0.8222 - val_loss: 0.4001 - val_accuracy: 0.8444\n",
      "Epoch 55/100\n",
      "23/23 [==============================] - 0s 6ms/step - loss: 0.4274 - accuracy: 0.8264 - val_loss: 0.3953 - val_accuracy: 0.8444\n",
      "Epoch 56/100\n",
      "23/23 [==============================] - 0s 7ms/step - loss: 0.4198 - accuracy: 0.8250 - val_loss: 0.3897 - val_accuracy: 0.8444\n",
      "Epoch 57/100\n",
      "23/23 [==============================] - 0s 6ms/step - loss: 0.4186 - accuracy: 0.8208 - val_loss: 0.4073 - val_accuracy: 0.8278\n",
      "Epoch 58/100\n",
      "23/23 [==============================] - 0s 7ms/step - loss: 0.4205 - accuracy: 0.8236 - val_loss: 0.4059 - val_accuracy: 0.8278\n"
     ]
    },
    {
     "name": "stdout",
     "output_type": "stream",
     "text": [
      "Epoch 59/100\n",
      "23/23 [==============================] - 0s 6ms/step - loss: 0.4242 - accuracy: 0.8167 - val_loss: 0.3887 - val_accuracy: 0.8444\n",
      "Epoch 60/100\n",
      "23/23 [==============================] - 0s 7ms/step - loss: 0.4118 - accuracy: 0.8292 - val_loss: 0.3853 - val_accuracy: 0.8444\n",
      "Epoch 61/100\n",
      "23/23 [==============================] - 0s 7ms/step - loss: 0.4087 - accuracy: 0.8306 - val_loss: 0.3892 - val_accuracy: 0.8444\n",
      "Epoch 62/100\n",
      "23/23 [==============================] - 0s 7ms/step - loss: 0.4064 - accuracy: 0.8306 - val_loss: 0.3842 - val_accuracy: 0.8556\n",
      "Epoch 63/100\n",
      "23/23 [==============================] - 0s 8ms/step - loss: 0.4135 - accuracy: 0.8222 - val_loss: 0.3882 - val_accuracy: 0.8444\n",
      "Epoch 64/100\n",
      "23/23 [==============================] - 0s 7ms/step - loss: 0.4029 - accuracy: 0.8361 - val_loss: 0.3886 - val_accuracy: 0.8444\n",
      "Epoch 65/100\n",
      "23/23 [==============================] - 0s 7ms/step - loss: 0.4020 - accuracy: 0.8361 - val_loss: 0.3806 - val_accuracy: 0.8500\n",
      "Epoch 66/100\n",
      "23/23 [==============================] - 0s 6ms/step - loss: 0.4026 - accuracy: 0.8319 - val_loss: 0.3759 - val_accuracy: 0.8500\n",
      "Epoch 67/100\n",
      "23/23 [==============================] - 0s 7ms/step - loss: 0.3978 - accuracy: 0.8292 - val_loss: 0.3728 - val_accuracy: 0.8389\n",
      "Epoch 68/100\n",
      "23/23 [==============================] - 0s 8ms/step - loss: 0.3922 - accuracy: 0.8292 - val_loss: 0.3695 - val_accuracy: 0.8556\n",
      "Epoch 69/100\n",
      "23/23 [==============================] - 0s 7ms/step - loss: 0.3893 - accuracy: 0.8389 - val_loss: 0.3677 - val_accuracy: 0.8500\n",
      "Epoch 70/100\n",
      "23/23 [==============================] - 0s 7ms/step - loss: 0.3810 - accuracy: 0.8333 - val_loss: 0.3760 - val_accuracy: 0.8500\n",
      "Epoch 71/100\n",
      "23/23 [==============================] - 0s 8ms/step - loss: 0.3786 - accuracy: 0.8333 - val_loss: 0.3777 - val_accuracy: 0.8556\n",
      "Epoch 72/100\n",
      "23/23 [==============================] - 0s 6ms/step - loss: 0.3784 - accuracy: 0.8347 - val_loss: 0.3630 - val_accuracy: 0.8500\n",
      "Epoch 73/100\n",
      "23/23 [==============================] - 0s 6ms/step - loss: 0.3787 - accuracy: 0.8403 - val_loss: 0.3572 - val_accuracy: 0.8667\n",
      "Epoch 74/100\n",
      "23/23 [==============================] - 0s 5ms/step - loss: 0.3746 - accuracy: 0.8361 - val_loss: 0.3600 - val_accuracy: 0.8500\n",
      "Epoch 75/100\n",
      "23/23 [==============================] - 0s 7ms/step - loss: 0.3712 - accuracy: 0.8333 - val_loss: 0.3667 - val_accuracy: 0.8611\n",
      "Epoch 76/100\n",
      "23/23 [==============================] - 0s 8ms/step - loss: 0.3822 - accuracy: 0.8444 - val_loss: 0.3547 - val_accuracy: 0.8556\n",
      "Epoch 77/100\n",
      "23/23 [==============================] - 0s 6ms/step - loss: 0.3744 - accuracy: 0.8403 - val_loss: 0.3561 - val_accuracy: 0.8556\n",
      "Epoch 78/100\n",
      "23/23 [==============================] - 0s 6ms/step - loss: 0.3665 - accuracy: 0.8403 - val_loss: 0.3598 - val_accuracy: 0.8611\n",
      "Epoch 79/100\n",
      "23/23 [==============================] - 0s 6ms/step - loss: 0.3681 - accuracy: 0.8389 - val_loss: 0.3605 - val_accuracy: 0.8611\n",
      "Epoch 80/100\n",
      "23/23 [==============================] - 0s 6ms/step - loss: 0.3629 - accuracy: 0.8417 - val_loss: 0.3523 - val_accuracy: 0.8611\n",
      "Epoch 81/100\n",
      "23/23 [==============================] - 0s 7ms/step - loss: 0.3619 - accuracy: 0.8486 - val_loss: 0.3612 - val_accuracy: 0.8611\n",
      "Epoch 82/100\n",
      "23/23 [==============================] - 0s 6ms/step - loss: 0.3601 - accuracy: 0.8472 - val_loss: 0.3562 - val_accuracy: 0.8556\n",
      "Epoch 83/100\n",
      "23/23 [==============================] - 0s 7ms/step - loss: 0.3607 - accuracy: 0.8472 - val_loss: 0.3658 - val_accuracy: 0.8611\n",
      "Epoch 84/100\n",
      "23/23 [==============================] - 0s 5ms/step - loss: 0.3604 - accuracy: 0.8361 - val_loss: 0.3642 - val_accuracy: 0.8611\n",
      "Epoch 85/100\n",
      "23/23 [==============================] - 0s 6ms/step - loss: 0.3629 - accuracy: 0.8514 - val_loss: 0.3437 - val_accuracy: 0.8667\n",
      "Epoch 86/100\n",
      "23/23 [==============================] - 0s 7ms/step - loss: 0.3590 - accuracy: 0.8472 - val_loss: 0.3453 - val_accuracy: 0.8722\n",
      "Epoch 87/100\n",
      "23/23 [==============================] - 0s 6ms/step - loss: 0.3540 - accuracy: 0.8542 - val_loss: 0.3475 - val_accuracy: 0.8611\n",
      "Epoch 88/100\n",
      "23/23 [==============================] - 0s 7ms/step - loss: 0.3549 - accuracy: 0.8486 - val_loss: 0.3498 - val_accuracy: 0.8556\n",
      "Epoch 89/100\n",
      "23/23 [==============================] - 0s 7ms/step - loss: 0.3503 - accuracy: 0.8528 - val_loss: 0.3436 - val_accuracy: 0.8444\n",
      "Epoch 90/100\n",
      "23/23 [==============================] - 0s 8ms/step - loss: 0.3554 - accuracy: 0.8583 - val_loss: 0.3437 - val_accuracy: 0.8444\n",
      "Epoch 91/100\n",
      "23/23 [==============================] - 0s 7ms/step - loss: 0.3537 - accuracy: 0.8514 - val_loss: 0.3415 - val_accuracy: 0.8667\n",
      "Epoch 92/100\n",
      "23/23 [==============================] - 0s 6ms/step - loss: 0.3524 - accuracy: 0.8528 - val_loss: 0.3440 - val_accuracy: 0.8444\n",
      "Epoch 93/100\n",
      "23/23 [==============================] - 0s 7ms/step - loss: 0.3486 - accuracy: 0.8472 - val_loss: 0.3427 - val_accuracy: 0.8611\n",
      "Epoch 94/100\n",
      "23/23 [==============================] - 0s 8ms/step - loss: 0.3537 - accuracy: 0.8556 - val_loss: 0.3451 - val_accuracy: 0.8667\n",
      "Epoch 95/100\n",
      "23/23 [==============================] - 0s 7ms/step - loss: 0.3508 - accuracy: 0.8569 - val_loss: 0.3418 - val_accuracy: 0.8556\n",
      "Epoch 96/100\n",
      "23/23 [==============================] - 0s 7ms/step - loss: 0.3482 - accuracy: 0.8583 - val_loss: 0.3407 - val_accuracy: 0.8667\n",
      "Epoch 97/100\n",
      "23/23 [==============================] - 0s 7ms/step - loss: 0.3462 - accuracy: 0.8611 - val_loss: 0.3370 - val_accuracy: 0.8611\n",
      "Epoch 98/100\n",
      "23/23 [==============================] - 0s 7ms/step - loss: 0.3476 - accuracy: 0.8597 - val_loss: 0.3384 - val_accuracy: 0.8611\n",
      "Epoch 99/100\n",
      "23/23 [==============================] - 0s 7ms/step - loss: 0.3514 - accuracy: 0.8583 - val_loss: 0.3376 - val_accuracy: 0.8778\n",
      "Epoch 100/100\n",
      "23/23 [==============================] - 0s 7ms/step - loss: 0.3526 - accuracy: 0.8528 - val_loss: 0.3588 - val_accuracy: 0.8778\n",
      "6/6 [==============================] - 0s 3ms/step\n"
     ]
    }
   ],
   "source": [
    "model_history=model.fit(x=X_train, y=y_train, epochs=100, batch_size=32,validation_data= (X_test,y_test))\n",
    "y_pred = model.predict(X_test)\n",
    "\n",
    "y_test_class = np.argmax(y_test,axis=1)\n",
    "y_pred_class = np.argmax(y_pred,axis=1)"
   ]
  },
  {
   "cell_type": "code",
   "execution_count": 67,
   "id": "53319a89",
   "metadata": {},
   "outputs": [
    {
     "name": "stdout",
     "output_type": "stream",
     "text": [
      "              precision    recall  f1-score   support\n",
      "\n",
      "           0       0.91      0.86      0.88        97\n",
      "           1       0.84      0.90      0.87        83\n",
      "\n",
      "    accuracy                           0.88       180\n",
      "   macro avg       0.88      0.88      0.88       180\n",
      "weighted avg       0.88      0.88      0.88       180\n",
      "\n",
      "[[83 14]\n",
      " [ 8 75]]\n"
     ]
    }
   ],
   "source": [
    "from sklearn.metrics import classification_report,confusion_matrix\n",
    "print(classification_report(y_test_class,y_pred_class))\n",
    "print(confusion_matrix(y_test_class,y_pred_class))"
   ]
  },
  {
   "cell_type": "code",
   "execution_count": 68,
   "id": "6b50f47c",
   "metadata": {},
   "outputs": [
    {
     "data": {
      "image/png": "[encoded data removed]",
      "text/plain": [
       "<Figure size 432x288 with 1 Axes>"
      ]
     },
     "metadata": {
      "needs_background": "light"
     },
     "output_type": "display_data"
    }
   ],
   "source": [
    "import matplotlib.pyplot as plt\n",
    "import seaborn as sns\n",
    "\n",
    "loss =model_history.history['loss']\n",
    "val_loss =model_history.history['val_loss']\n",
    "epochs = range(1, len(loss) + 1)\n",
    "plt.plot(epochs, loss, 'y', label='Training loss')\n",
    "plt.plot(epochs, val_loss, 'r', label='Validation loss')\n",
    "plt.title('Training and validation loss')\n",
    "plt.xlabel('Epochs')\n",
    "plt.ylabel('Loss')\n",
    "plt.legend()\n",
    "plt.show()"
   ]
  },
  {
   "cell_type": "code",
   "execution_count": 69,
   "id": "2c1f7797",
   "metadata": {},
   "outputs": [
    {
     "data": {
      "image/png": "[encoded data removed]",
      "text/plain": [
       "<Figure size 432x288 with 1 Axes>"
      ]
     },
     "metadata": {
      "needs_background": "light"
     },
     "output_type": "display_data"
    }
   ],
   "source": [
    "acc =model_history.history['accuracy']\n",
    "val_acc =model_history.history['val_accuracy']\n",
    "plt.plot(epochs, acc, 'y', label='Training acc')\n",
    "plt.plot(epochs, val_acc, 'r', label='Validation acc')\n",
    "plt.title('Training and validation accuracy')\n",
    "plt.xlabel('Epochs')\n",
    "plt.ylabel('Accuracy')\n",
    "plt.legend()\n",
    "plt.show()"
   ]
  },
  {
   "cell_type": "code",
   "execution_count": null,
   "id": "3572a3b7",
   "metadata": {},
   "outputs": [],
   "source": []
  },
  {
   "cell_type": "code",
   "execution_count": null,
   "id": "9bfda659",
   "metadata": {},
   "outputs": [],
   "source": []
  },
  {
   "cell_type": "code",
   "execution_count": null,
   "id": "df2e9607",
   "metadata": {},
   "outputs": [],
   "source": []
  },
  {
   "cell_type": "code",
   "execution_count": null,
   "id": "b99e438a",
   "metadata": {},
   "outputs": [],
   "source": []
  },
  {
   "cell_type": "code",
   "execution_count": null,
   "id": "ea7aabf7",
   "metadata": {},
   "outputs": [],
   "source": []
  },
  {
   "cell_type": "code",
   "execution_count": null,
   "id": "caed3cd6",
   "metadata": {},
   "outputs": [],
   "source": []
  }
 ],
 "metadata": {
  "kernelspec": {
   "display_name": "Python 3 (ipykernel)",
   "language": "python",
   "name": "python3"
  },
  "language_info": {
   "codemirror_mode": {
    "name": "ipython",
    "version": 3
   },
   "file_extension": ".py",
   "mimetype": "text/x-python",
   "name": "python",
   "nbconvert_exporter": "python",
   "pygments_lexer": "ipython3",
   "version": "3.9.12"
  }
 },
 "nbformat": 4,
 "nbformat_minor": 5
}
