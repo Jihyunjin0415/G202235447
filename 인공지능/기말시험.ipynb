{
 "cells": [
  {
   "cell_type": "code",
   "execution_count": 87,
   "id": "f316e530",
   "metadata": {},
   "outputs": [],
   "source": [
    "import numpy as np\n",
    "import pandas as pd\n",
    "import seaborn as sns\n",
    "import matplotlib.pyplot as plt"
   ]
  },
  {
   "cell_type": "code",
   "execution_count": 88,
   "id": "650580e3",
   "metadata": {
    "scrolled": false
   },
   "outputs": [
    {
     "data": {
      "text/html": [
       "<div>\n",
       "<style scoped>\n",
       "    .dataframe tbody tr th:only-of-type {\n",
       "        vertical-align: middle;\n",
       "    }\n",
       "\n",
       "    .dataframe tbody tr th {\n",
       "        vertical-align: top;\n",
       "    }\n",
       "\n",
       "    .dataframe thead th {\n",
       "        text-align: right;\n",
       "    }\n",
       "</style>\n",
       "<table border=\"1\" class=\"dataframe\">\n",
       "  <thead>\n",
       "    <tr style=\"text-align: right;\">\n",
       "      <th></th>\n",
       "      <th>Unnamed: 0</th>\n",
       "      <th>sub_id</th>\n",
       "      <th>activity_id</th>\n",
       "      <th>act_level</th>\n",
       "      <th>hand_acc_x_mean</th>\n",
       "      <th>hand_acc_x_std</th>\n",
       "      <th>hand_acc_y_mean</th>\n",
       "      <th>hand_acc_y_std</th>\n",
       "      <th>hand_acc_z_mean</th>\n",
       "      <th>hand_acc_z_std</th>\n",
       "      <th>...</th>\n",
       "      <th>ankle_acc_y_mean</th>\n",
       "      <th>ankle_acc_y_std</th>\n",
       "      <th>ankle_acc_z_mean</th>\n",
       "      <th>ankle_acc_z_std</th>\n",
       "      <th>ankle_gyr_x_mean</th>\n",
       "      <th>ankle_gyr_x_std</th>\n",
       "      <th>ankle_gyr_y_mean</th>\n",
       "      <th>ankle_gyr_y_std</th>\n",
       "      <th>ankle_gyr_z_mean</th>\n",
       "      <th>ankle_gyr_z_std</th>\n",
       "    </tr>\n",
       "  </thead>\n",
       "  <tbody>\n",
       "    <tr>\n",
       "      <th>0</th>\n",
       "      <td>3497</td>\n",
       "      <td>2</td>\n",
       "      <td>4</td>\n",
       "      <td>moderate</td>\n",
       "      <td>-12.040995</td>\n",
       "      <td>3.734766</td>\n",
       "      <td>3.069947</td>\n",
       "      <td>2.591651</td>\n",
       "      <td>1.161251</td>\n",
       "      <td>1.837110</td>\n",
       "      <td>...</td>\n",
       "      <td>0.068395</td>\n",
       "      <td>7.408032</td>\n",
       "      <td>-1.578947</td>\n",
       "      <td>3.224426</td>\n",
       "      <td>-0.089607</td>\n",
       "      <td>1.419706</td>\n",
       "      <td>-0.109581</td>\n",
       "      <td>0.823423</td>\n",
       "      <td>-0.033989</td>\n",
       "      <td>3.099118</td>\n",
       "    </tr>\n",
       "    <tr>\n",
       "      <th>1</th>\n",
       "      <td>14495</td>\n",
       "      <td>7</td>\n",
       "      <td>5</td>\n",
       "      <td>vigorous</td>\n",
       "      <td>-3.723040</td>\n",
       "      <td>10.188184</td>\n",
       "      <td>11.705779</td>\n",
       "      <td>17.220389</td>\n",
       "      <td>-1.367870</td>\n",
       "      <td>4.527840</td>\n",
       "      <td>...</td>\n",
       "      <td>4.774907</td>\n",
       "      <td>16.373748</td>\n",
       "      <td>-4.488213</td>\n",
       "      <td>13.319767</td>\n",
       "      <td>0.268098</td>\n",
       "      <td>2.850637</td>\n",
       "      <td>-0.214467</td>\n",
       "      <td>1.461636</td>\n",
       "      <td>0.173994</td>\n",
       "      <td>4.399006</td>\n",
       "    </tr>\n",
       "    <tr>\n",
       "      <th>2</th>\n",
       "      <td>14969</td>\n",
       "      <td>8</td>\n",
       "      <td>3</td>\n",
       "      <td>light</td>\n",
       "      <td>-9.275877</td>\n",
       "      <td>0.082824</td>\n",
       "      <td>1.006239</td>\n",
       "      <td>0.153816</td>\n",
       "      <td>2.709588</td>\n",
       "      <td>0.155286</td>\n",
       "      <td>...</td>\n",
       "      <td>-7.266617</td>\n",
       "      <td>0.080816</td>\n",
       "      <td>-1.471347</td>\n",
       "      <td>0.167118</td>\n",
       "      <td>-0.000961</td>\n",
       "      <td>0.039025</td>\n",
       "      <td>0.000421</td>\n",
       "      <td>0.028817</td>\n",
       "      <td>0.005620</td>\n",
       "      <td>0.017938</td>\n",
       "    </tr>\n",
       "    <tr>\n",
       "      <th>3</th>\n",
       "      <td>10111</td>\n",
       "      <td>5</td>\n",
       "      <td>5</td>\n",
       "      <td>vigorous</td>\n",
       "      <td>-4.493177</td>\n",
       "      <td>8.047408</td>\n",
       "      <td>9.519502</td>\n",
       "      <td>15.157397</td>\n",
       "      <td>2.644789</td>\n",
       "      <td>4.397889</td>\n",
       "      <td>...</td>\n",
       "      <td>4.253153</td>\n",
       "      <td>14.499693</td>\n",
       "      <td>-4.933189</td>\n",
       "      <td>5.644267</td>\n",
       "      <td>-0.075801</td>\n",
       "      <td>1.656742</td>\n",
       "      <td>-0.067246</td>\n",
       "      <td>1.173186</td>\n",
       "      <td>0.201805</td>\n",
       "      <td>4.822345</td>\n",
       "    </tr>\n",
       "    <tr>\n",
       "      <th>4</th>\n",
       "      <td>2422</td>\n",
       "      <td>2</td>\n",
       "      <td>2</td>\n",
       "      <td>light</td>\n",
       "      <td>-1.544933</td>\n",
       "      <td>0.176979</td>\n",
       "      <td>6.506689</td>\n",
       "      <td>0.157476</td>\n",
       "      <td>7.027291</td>\n",
       "      <td>0.151310</td>\n",
       "      <td>...</td>\n",
       "      <td>-2.435107</td>\n",
       "      <td>0.445737</td>\n",
       "      <td>-1.317451</td>\n",
       "      <td>0.891343</td>\n",
       "      <td>0.011485</td>\n",
       "      <td>0.289046</td>\n",
       "      <td>-0.030544</td>\n",
       "      <td>0.149178</td>\n",
       "      <td>0.013118</td>\n",
       "      <td>0.037660</td>\n",
       "    </tr>\n",
       "  </tbody>\n",
       "</table>\n",
       "<p>5 rows × 40 columns</p>\n",
       "</div>"
      ],
      "text/plain": [
       "   Unnamed: 0  sub_id  activity_id act_level  hand_acc_x_mean  hand_acc_x_std  \\\n",
       "0        3497       2            4  moderate       -12.040995        3.734766   \n",
       "1       14495       7            5  vigorous        -3.723040       10.188184   \n",
       "2       14969       8            3     light        -9.275877        0.082824   \n",
       "3       10111       5            5  vigorous        -4.493177        8.047408   \n",
       "4        2422       2            2     light        -1.544933        0.176979   \n",
       "\n",
       "   hand_acc_y_mean  hand_acc_y_std  hand_acc_z_mean  hand_acc_z_std  ...  \\\n",
       "0         3.069947        2.591651         1.161251        1.837110  ...   \n",
       "1        11.705779       17.220389        -1.367870        4.527840  ...   \n",
       "2         1.006239        0.153816         2.709588        0.155286  ...   \n",
       "3         9.519502       15.157397         2.644789        4.397889  ...   \n",
       "4         6.506689        0.157476         7.027291        0.151310  ...   \n",
       "\n",
       "   ankle_acc_y_mean  ankle_acc_y_std  ankle_acc_z_mean  ankle_acc_z_std  \\\n",
       "0          0.068395         7.408032         -1.578947         3.224426   \n",
       "1          4.774907        16.373748         -4.488213        13.319767   \n",
       "2         -7.266617         0.080816         -1.471347         0.167118   \n",
       "3          4.253153        14.499693         -4.933189         5.644267   \n",
       "4         -2.435107         0.445737         -1.317451         0.891343   \n",
       "\n",
       "   ankle_gyr_x_mean  ankle_gyr_x_std  ankle_gyr_y_mean  ankle_gyr_y_std  \\\n",
       "0         -0.089607         1.419706         -0.109581         0.823423   \n",
       "1          0.268098         2.850637         -0.214467         1.461636   \n",
       "2         -0.000961         0.039025          0.000421         0.028817   \n",
       "3         -0.075801         1.656742         -0.067246         1.173186   \n",
       "4          0.011485         0.289046         -0.030544         0.149178   \n",
       "\n",
       "   ankle_gyr_z_mean  ankle_gyr_z_std  \n",
       "0         -0.033989         3.099118  \n",
       "1          0.173994         4.399006  \n",
       "2          0.005620         0.017938  \n",
       "3          0.201805         4.822345  \n",
       "4          0.013118         0.037660  \n",
       "\n",
       "[5 rows x 40 columns]"
      ]
     },
     "execution_count": 88,
     "metadata": {},
     "output_type": "execute_result"
    }
   ],
   "source": [
    "data = pd.read_csv(\"C:/Users/jhjjh/Downloads/EDA_final.csv\")\n",
    "data.head()"
   ]
  },
  {
   "cell_type": "code",
   "execution_count": 90,
   "id": "2567e946",
   "metadata": {},
   "outputs": [
    {
     "data": {
      "text/plain": [
       "Text(0.5, 1.0, 'Label')"
      ]
     },
     "execution_count": 90,
     "metadata": {},
     "output_type": "execute_result"
    },
    {
     "data": {
      "image/png": "[encoded data removed]",
      "text/plain": [
       "<Figure size 432x288 with 1 Axes>"
      ]
     },
     "metadata": {
      "needs_background": "light"
     },
     "output_type": "display_data"
    }
   ],
   "source": [
    "sns.countplot(data = data, x=\"activity_id\")\n",
    "plt.xlabel(\"activity_id\")\n",
    "plt.ylabel(\"Count\")\n",
    "plt.title(\"Label\")"
   ]
  },
  {
   "cell_type": "code",
   "execution_count": 91,
   "id": "e2eee933",
   "metadata": {},
   "outputs": [
    {
     "data": {
      "text/plain": [
       "Unnamed: 0          0\n",
       "sub_id              0\n",
       "activity_id         0\n",
       "act_level           0\n",
       "hand_acc_x_mean     0\n",
       "hand_acc_x_std      0\n",
       "hand_acc_y_mean     0\n",
       "hand_acc_y_std      0\n",
       "hand_acc_z_mean     0\n",
       "hand_acc_z_std      0\n",
       "hand_gyr_x_mean     0\n",
       "hand_gyr_x_std      0\n",
       "hand_gyr_y_mean     0\n",
       "hand_gyr_y_std      0\n",
       "hand_gyr_z_mean     0\n",
       "hand_gyr_z_std      0\n",
       "chest_acc_x_mean    0\n",
       "chest_acc_x_std     0\n",
       "chest_acc_y_mean    0\n",
       "chest_acc_y_std     0\n",
       "chest_acc_z_mean    0\n",
       "chest_acc_z_std     0\n",
       "chest_gyr_x_mean    0\n",
       "chest_gyr_x_std     0\n",
       "chest_gyr_y_mean    0\n",
       "chest_gyr_y_std     0\n",
       "chest_gyr_z_mean    0\n",
       "chest_gyr_z_std     0\n",
       "ankle_acc_x_mean    0\n",
       "ankle_acc_x_std     0\n",
       "ankle_acc_y_mean    0\n",
       "ankle_acc_y_std     0\n",
       "ankle_acc_z_mean    0\n",
       "ankle_acc_z_std     0\n",
       "ankle_gyr_x_mean    0\n",
       "ankle_gyr_x_std     0\n",
       "ankle_gyr_y_mean    0\n",
       "ankle_gyr_y_std     0\n",
       "ankle_gyr_z_mean    0\n",
       "ankle_gyr_z_std     0\n",
       "dtype: int64"
      ]
     },
     "execution_count": 91,
     "metadata": {},
     "output_type": "execute_result"
    }
   ],
   "source": [
    "data.isnull().sum()"
   ]
  },
  {
   "cell_type": "code",
   "execution_count": 92,
   "id": "4c1072b7",
   "metadata": {},
   "outputs": [],
   "source": [
    "X = data.drop(['activity_id'], axis =1)\n",
    "y = data['activity_id']"
   ]
  },
  {
   "cell_type": "code",
   "execution_count": 93,
   "id": "c937015d",
   "metadata": {},
   "outputs": [],
   "source": [
    "from sklearn.model_selection import train_test_split\n",
    "from keras.utils import to_categorical\n",
    "\n",
    "X_train, X_test, y_train, y_test = train_test_split(X, y, test_size=0.2, random_state=5) \n",
    "\n",
    "y_train = to_categorical(y_train)\n",
    "y_test = to_categorical(y_test)"
   ]
  },
  {
   "cell_type": "code",
   "execution_count": 94,
   "id": "55f4a2ed",
   "metadata": {},
   "outputs": [
    {
     "data": {
      "text/plain": [
       "(6279, 39)"
      ]
     },
     "execution_count": 94,
     "metadata": {},
     "output_type": "execute_result"
    }
   ],
   "source": [
    "X_train.shape"
   ]
  },
  {
   "cell_type": "code",
   "execution_count": 95,
   "id": "500b3ab3",
   "metadata": {},
   "outputs": [
    {
     "name": "stdout",
     "output_type": "stream",
     "text": [
      "Model: \"sequential_14\"\n",
      "_________________________________________________________________\n",
      " Layer (type)                Output Shape              Param #   \n",
      "=================================================================\n",
      " dense_56 (Dense)            (None, 45)                1800      \n",
      "                                                                 \n",
      " dense_57 (Dense)            (None, 35)                1610      \n",
      "                                                                 \n",
      " dense_58 (Dense)            (None, 10)                360       \n",
      "                                                                 \n",
      " dense_59 (Dense)            (None, 7)                 77        \n",
      "                                                                 \n",
      "=================================================================\n",
      "Total params: 3,847\n",
      "Trainable params: 3,847\n",
      "Non-trainable params: 0\n",
      "_________________________________________________________________\n"
     ]
    },
    {
     "name": "stderr",
     "output_type": "stream",
     "text": [
      "C:\\Users\\jhjjh\\anaconda3\\lib\\site-packages\\keras\\optimizers\\legacy\\adam.py:117: UserWarning: The `lr` argument is deprecated, use `learning_rate` instead.\n",
      "  super().__init__(name, **kwargs)\n"
     ]
    }
   ],
   "source": [
    "from keras.models import Sequential\n",
    "from keras.layers import Dense\n",
    "from keras.optimizers import SGD,Adam\n",
    "\n",
    "model = Sequential()\n",
    "\n",
    "model.add(Dense(45,input_shape=(39,),activation='sigmoid'))\n",
    "model.add(Dense(35,activation='sigmoid'))\n",
    "model.add(Dense(10,activation='sigmoid'))\n",
    "model.add(Dense(7,activation='softmax'))\n",
    "\n",
    "model.compile(Adam(lr=0.004),'categorical_crossentropy',metrics=['accuracy'])\n",
    "\n",
    "model.summary()"
   ]
  },
  {
   "cell_type": "code",
   "execution_count": 96,
   "id": "f556c267",
   "metadata": {},
   "outputs": [
    {
     "name": "stdout",
     "output_type": "stream",
     "text": [
      "Epoch 1/30\n",
      "197/197 [==============================] - 1s 4ms/step - loss: 1.5597 - accuracy: 0.4561 - val_loss: 1.4006 - val_accuracy: 0.4911\n",
      "Epoch 2/30\n",
      "197/197 [==============================] - 1s 3ms/step - loss: 1.3011 - accuracy: 0.5407 - val_loss: 1.2023 - val_accuracy: 0.5987\n",
      "Epoch 3/30\n",
      "197/197 [==============================] - 1s 3ms/step - loss: 1.3011 - accuracy: 0.5372 - val_loss: 1.3721 - val_accuracy: 0.4936\n",
      "Epoch 4/30\n",
      "197/197 [==============================] - 0s 2ms/step - loss: 1.2824 - accuracy: 0.5214 - val_loss: 1.0882 - val_accuracy: 0.5885\n",
      "Epoch 5/30\n",
      "197/197 [==============================] - 0s 3ms/step - loss: 1.1331 - accuracy: 0.5555 - val_loss: 1.1007 - val_accuracy: 0.5465\n",
      "Epoch 6/30\n",
      "197/197 [==============================] - 1s 3ms/step - loss: 1.1444 - accuracy: 0.5757 - val_loss: 1.1211 - val_accuracy: 0.5758\n",
      "Epoch 7/30\n",
      "197/197 [==============================] - 1s 3ms/step - loss: 1.3640 - accuracy: 0.5179 - val_loss: 1.3318 - val_accuracy: 0.5306\n",
      "Epoch 8/30\n",
      "197/197 [==============================] - 1s 3ms/step - loss: 1.3350 - accuracy: 0.5351 - val_loss: 1.3136 - val_accuracy: 0.5013\n",
      "Epoch 9/30\n",
      "197/197 [==============================] - 1s 3ms/step - loss: 1.2757 - accuracy: 0.5396 - val_loss: 1.2412 - val_accuracy: 0.5656\n",
      "Epoch 10/30\n",
      "197/197 [==============================] - 1s 3ms/step - loss: 1.1953 - accuracy: 0.5595 - val_loss: 1.1225 - val_accuracy: 0.5752\n",
      "Epoch 11/30\n",
      "197/197 [==============================] - 1s 3ms/step - loss: 1.0550 - accuracy: 0.5947 - val_loss: 0.9784 - val_accuracy: 0.6414\n",
      "Epoch 12/30\n",
      "197/197 [==============================] - 1s 3ms/step - loss: 1.0511 - accuracy: 0.5999 - val_loss: 1.3017 - val_accuracy: 0.4955\n",
      "Epoch 13/30\n",
      "197/197 [==============================] - 1s 3ms/step - loss: 1.2821 - accuracy: 0.4940 - val_loss: 1.3259 - val_accuracy: 0.4962\n",
      "Epoch 14/30\n",
      "197/197 [==============================] - 1s 3ms/step - loss: 1.2606 - accuracy: 0.5061 - val_loss: 1.0207 - val_accuracy: 0.6325\n",
      "Epoch 15/30\n",
      "197/197 [==============================] - 0s 2ms/step - loss: 1.3152 - accuracy: 0.5232 - val_loss: 1.3820 - val_accuracy: 0.4962\n",
      "Epoch 16/30\n",
      "197/197 [==============================] - 0s 2ms/step - loss: 1.4010 - accuracy: 0.4920 - val_loss: 1.3831 - val_accuracy: 0.4962\n",
      "Epoch 17/30\n",
      "197/197 [==============================] - 1s 3ms/step - loss: 1.3988 - accuracy: 0.4920 - val_loss: 1.3932 - val_accuracy: 0.4962\n",
      "Epoch 18/30\n",
      "197/197 [==============================] - 0s 2ms/step - loss: 1.3956 - accuracy: 0.4920 - val_loss: 1.3832 - val_accuracy: 0.4962\n",
      "Epoch 19/30\n",
      "197/197 [==============================] - 0s 2ms/step - loss: 1.3942 - accuracy: 0.4920 - val_loss: 1.3794 - val_accuracy: 0.4962\n",
      "Epoch 20/30\n",
      "197/197 [==============================] - 1s 3ms/step - loss: 1.3946 - accuracy: 0.4920 - val_loss: 1.3851 - val_accuracy: 0.4962\n",
      "Epoch 21/30\n",
      "197/197 [==============================] - 0s 2ms/step - loss: 1.3957 - accuracy: 0.4920 - val_loss: 1.3832 - val_accuracy: 0.4955\n",
      "Epoch 22/30\n",
      "197/197 [==============================] - 0s 2ms/step - loss: 1.2860 - accuracy: 0.5327 - val_loss: 1.1126 - val_accuracy: 0.6108\n",
      "Epoch 23/30\n",
      "197/197 [==============================] - 0s 2ms/step - loss: 1.3369 - accuracy: 0.5057 - val_loss: 1.3503 - val_accuracy: 0.4962\n",
      "Epoch 24/30\n",
      "197/197 [==============================] - 1s 3ms/step - loss: 1.3458 - accuracy: 0.5101 - val_loss: 1.5133 - val_accuracy: 0.4433\n",
      "Epoch 25/30\n",
      "197/197 [==============================] - 0s 2ms/step - loss: 1.2467 - accuracy: 0.5405 - val_loss: 1.3590 - val_accuracy: 0.5025\n",
      "Epoch 26/30\n",
      "197/197 [==============================] - 0s 2ms/step - loss: 1.3493 - accuracy: 0.5044 - val_loss: 1.3539 - val_accuracy: 0.4987\n",
      "Epoch 27/30\n",
      "197/197 [==============================] - 0s 2ms/step - loss: 1.2940 - accuracy: 0.5286 - val_loss: 1.1401 - val_accuracy: 0.5771\n",
      "Epoch 28/30\n",
      "197/197 [==============================] - 0s 2ms/step - loss: 1.1344 - accuracy: 0.5775 - val_loss: 1.1246 - val_accuracy: 0.5637\n",
      "Epoch 29/30\n",
      "197/197 [==============================] - 1s 3ms/step - loss: 1.1356 - accuracy: 0.5722 - val_loss: 1.1046 - val_accuracy: 0.5904\n",
      "Epoch 30/30\n",
      "197/197 [==============================] - 0s 2ms/step - loss: 1.1727 - accuracy: 0.5698 - val_loss: 1.1204 - val_accuracy: 0.5777\n",
      "50/50 [==============================] - 0s 2ms/step\n"
     ]
    }
   ],
   "source": [
    "model_history=model.fit(x=X_train, y=y_train, epochs=30, batch_size=32, validation_data= (X_test,y_test))\n",
    "y_pred = model.predict(X_test)\n",
    "\n",
    "y_test_class = np.argmax(y_test,axis=1)\n",
    "y_pred_class = np.argmax(y_pred,axis=1)"
   ]
  },
  {
   "cell_type": "code",
   "execution_count": 97,
   "id": "901bc114",
   "metadata": {},
   "outputs": [
    {
     "data": {
      "image/png": "[encoded data removed]",
      "text/plain": [
       "<Figure size 432x288 with 1 Axes>"
      ]
     },
     "metadata": {
      "needs_background": "light"
     },
     "output_type": "display_data"
    }
   ],
   "source": [
    "import matplotlib.pyplot as plt\n",
    "import seaborn as sns\n",
    "\n",
    "loss =model_history.history['loss']\n",
    "val_loss =model_history.history['val_loss']\n",
    "epochs = range(1, len(loss) + 1)\n",
    "plt.plot(epochs, loss, 'y', label='Training loss')\n",
    "plt.plot(epochs, val_loss, 'r', label='Validation loss')\n",
    "plt.title('Training and validation loss')\n",
    "plt.xlabel('Epochs')\n",
    "plt.ylabel('Loss')\n",
    "plt.legend()\n",
    "plt.show()"
   ]
  },
  {
   "cell_type": "code",
   "execution_count": 98,
   "id": "939559ff",
   "metadata": {},
   "outputs": [
    {
     "data": {
      "image/png": "[encoded data removed]",
      "text/plain": [
       "<Figure size 432x288 with 1 Axes>"
      ]
     },
     "metadata": {
      "needs_background": "light"
     },
     "output_type": "display_data"
    }
   ],
   "source": [
    "acc =model_history.history['accuracy']\n",
    "val_acc =model_history.history['val_accuracy']\n",
    "plt.plot(epochs, acc, 'y', label='Training acc')\n",
    "plt.plot(epochs, val_acc, 'r', label='Validation acc')\n",
    "plt.title('Training and validation accuracy')\n",
    "plt.xlabel('Epochs')\n",
    "plt.ylabel('Accuracy')\n",
    "plt.legend()\n",
    "plt.show()"
   ]
  },
  {
   "cell_type": "code",
   "execution_count": 99,
   "id": "506df5e6",
   "metadata": {},
   "outputs": [
    {
     "name": "stdout",
     "output_type": "stream",
     "text": [
      "              precision    recall  f1-score   support\n",
      "\n",
      "           0       0.00      0.00      0.00        85\n",
      "           1       1.00      0.61      0.76       254\n",
      "           2       0.45      0.94      0.61       226\n",
      "           3       0.00      0.00      0.00       260\n",
      "           4       0.57      1.00      0.73       538\n",
      "           5       0.00      0.00      0.00       103\n",
      "           6       0.00      0.00      0.00       104\n",
      "\n",
      "    accuracy                           0.58      1570\n",
      "   macro avg       0.29      0.37      0.30      1570\n",
      "weighted avg       0.42      0.58      0.46      1570\n",
      "\n",
      "[[  0   0   0   0  85   0   0]\n",
      " [  0 156  97   0   1   0   0]\n",
      " [  0   0 213   1  12   0   0]\n",
      " [  0   0 162   0  98   0   0]\n",
      " [  0   0   0   0 538   0   0]\n",
      " [  0   0   0   0 103   0   0]\n",
      " [  0   0   0   0 104   0   0]]\n"
     ]
    },
    {
     "name": "stderr",
     "output_type": "stream",
     "text": [
      "C:\\Users\\jhjjh\\anaconda3\\lib\\site-packages\\sklearn\\metrics\\_classification.py:1318: UndefinedMetricWarning: Precision and F-score are ill-defined and being set to 0.0 in labels with no predicted samples. Use `zero_division` parameter to control this behavior.\n",
      "  _warn_prf(average, modifier, msg_start, len(result))\n",
      "C:\\Users\\jhjjh\\anaconda3\\lib\\site-packages\\sklearn\\metrics\\_classification.py:1318: UndefinedMetricWarning: Precision and F-score are ill-defined and being set to 0.0 in labels with no predicted samples. Use `zero_division` parameter to control this behavior.\n",
      "  _warn_prf(average, modifier, msg_start, len(result))\n",
      "C:\\Users\\jhjjh\\anaconda3\\lib\\site-packages\\sklearn\\metrics\\_classification.py:1318: UndefinedMetricWarning: Precision and F-score are ill-defined and being set to 0.0 in labels with no predicted samples. Use `zero_division` parameter to control this behavior.\n",
      "  _warn_prf(average, modifier, msg_start, len(result))\n"
     ]
    }
   ],
   "source": [
    "from sklearn.metrics import classification_report,confusion_matrix\n",
    "print(classification_report(y_test_class,y_pred_class))\n",
    "print(confusion_matrix(y_test_class,y_pred_class))"
   ]
  },
  {
   "cell_type": "code",
   "execution_count": null,
   "id": "dcc51427",
   "metadata": {},
   "outputs": [],
   "source": []
  },
  {
   "cell_type": "code",
   "execution_count": null,
   "id": "de90e015",
   "metadata": {},
   "outputs": [],
   "source": []
  },
  {
   "cell_type": "code",
   "execution_count": null,
   "id": "a135448f",
   "metadata": {},
   "outputs": [],
   "source": []
  },
  {
   "cell_type": "code",
   "execution_count": null,
   "id": "94521a2e",
   "metadata": {},
   "outputs": [],
   "source": []
  },
  {
   "cell_type": "code",
   "execution_count": null,
   "id": "c4ac8de2",
   "metadata": {},
   "outputs": [],
   "source": []
  },
  {
   "cell_type": "code",
   "execution_count": null,
   "id": "867a3e1b",
   "metadata": {},
   "outputs": [],
   "source": []
  },
  {
   "cell_type": "code",
   "execution_count": null,
   "id": "2dbcb435",
   "metadata": {},
   "outputs": [],
   "source": []
  },
  {
   "cell_type": "code",
   "execution_count": null,
   "id": "3e3a562c",
   "metadata": {},
   "outputs": [],
   "source": []
  },
  {
   "cell_type": "code",
   "execution_count": null,
   "id": "838d92cb",
   "metadata": {},
   "outputs": [],
   "source": []
  }
 ],
 "metadata": {
  "kernelspec": {
   "display_name": "Python 3 (ipykernel)",
   "language": "python",
   "name": "python3"
  },
  "language_info": {
   "codemirror_mode": {
    "name": "ipython",
    "version": 3
   },
   "file_extension": ".py",
   "mimetype": "text/x-python",
   "name": "python",
   "nbconvert_exporter": "python",
   "pygments_lexer": "ipython3",
   "version": "3.9.12"
  }
 },
 "nbformat": 4,
 "nbformat_minor": 5
}
