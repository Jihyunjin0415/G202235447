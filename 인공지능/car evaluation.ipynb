{
 "cells": [
  {
   "cell_type": "code",
   "execution_count": 29,
   "id": "129dd734",
   "metadata": {
    "scrolled": true
   },
   "outputs": [
    {
     "data": {
      "text/html": [
       "<div>\n",
       "<style scoped>\n",
       "    .dataframe tbody tr th:only-of-type {\n",
       "        vertical-align: middle;\n",
       "    }\n",
       "\n",
       "    .dataframe tbody tr th {\n",
       "        vertical-align: top;\n",
       "    }\n",
       "\n",
       "    .dataframe thead th {\n",
       "        text-align: right;\n",
       "    }\n",
       "</style>\n",
       "<table border=\"1\" class=\"dataframe\">\n",
       "  <thead>\n",
       "    <tr style=\"text-align: right;\">\n",
       "      <th></th>\n",
       "      <th>buying</th>\n",
       "      <th>maint</th>\n",
       "      <th>doors</th>\n",
       "      <th>persons</th>\n",
       "      <th>lug_boot</th>\n",
       "      <th>safety</th>\n",
       "      <th>class</th>\n",
       "    </tr>\n",
       "  </thead>\n",
       "  <tbody>\n",
       "    <tr>\n",
       "      <th>0</th>\n",
       "      <td>vhigh</td>\n",
       "      <td>vhigh</td>\n",
       "      <td>2</td>\n",
       "      <td>2</td>\n",
       "      <td>small</td>\n",
       "      <td>med</td>\n",
       "      <td>unacc</td>\n",
       "    </tr>\n",
       "    <tr>\n",
       "      <th>1</th>\n",
       "      <td>vhigh</td>\n",
       "      <td>vhigh</td>\n",
       "      <td>2</td>\n",
       "      <td>2</td>\n",
       "      <td>small</td>\n",
       "      <td>high</td>\n",
       "      <td>unacc</td>\n",
       "    </tr>\n",
       "    <tr>\n",
       "      <th>2</th>\n",
       "      <td>vhigh</td>\n",
       "      <td>vhigh</td>\n",
       "      <td>2</td>\n",
       "      <td>2</td>\n",
       "      <td>med</td>\n",
       "      <td>low</td>\n",
       "      <td>unacc</td>\n",
       "    </tr>\n",
       "    <tr>\n",
       "      <th>3</th>\n",
       "      <td>vhigh</td>\n",
       "      <td>vhigh</td>\n",
       "      <td>2</td>\n",
       "      <td>2</td>\n",
       "      <td>med</td>\n",
       "      <td>med</td>\n",
       "      <td>unacc</td>\n",
       "    </tr>\n",
       "    <tr>\n",
       "      <th>4</th>\n",
       "      <td>vhigh</td>\n",
       "      <td>vhigh</td>\n",
       "      <td>2</td>\n",
       "      <td>2</td>\n",
       "      <td>med</td>\n",
       "      <td>high</td>\n",
       "      <td>unacc</td>\n",
       "    </tr>\n",
       "  </tbody>\n",
       "</table>\n",
       "</div>"
      ],
      "text/plain": [
       "  buying  maint doors persons lug_boot safety  class\n",
       "0  vhigh  vhigh     2       2    small    med  unacc\n",
       "1  vhigh  vhigh     2       2    small   high  unacc\n",
       "2  vhigh  vhigh     2       2      med    low  unacc\n",
       "3  vhigh  vhigh     2       2      med    med  unacc\n",
       "4  vhigh  vhigh     2       2      med   high  unacc"
      ]
     },
     "execution_count": 29,
     "metadata": {},
     "output_type": "execute_result"
    }
   ],
   "source": [
    "import pandas as pd \n",
    "import numpy as np\n",
    "import matplotlib.pyplot as plt\n",
    "import seaborn as sns \n",
    "from sklearn.model_selection import train_test_split\n",
    "from sklearn.preprocessing import LabelEncoder\n",
    "from sklearn.linear_model import LogisticRegression\n",
    "from sklearn.pipeline import make_pipeline\n",
    "from sklearn.preprocessing import OneHotEncoder\n",
    "from sklearn.compose import make_column_transformer\n",
    "\n",
    "features = [\"buying\",\"maint\",\"doors\",\"persons\",\"lug_boot\",\"safety\",\"class\"]\n",
    "df_data = pd.read_csv('C:/Users/jhjjh/Downloads/car.data')\n",
    "df_data = df_data.to_numpy()\n",
    "df = pd.DataFrame(df_data, columns=features)\n",
    "df.head()"
   ]
  },
  {
   "cell_type": "code",
   "execution_count": 30,
   "id": "f10bc0f7",
   "metadata": {},
   "outputs": [
    {
     "data": {
      "text/plain": [
       "buying      0\n",
       "maint       0\n",
       "doors       0\n",
       "persons     0\n",
       "lug_boot    0\n",
       "safety      0\n",
       "class       0\n",
       "dtype: int64"
      ]
     },
     "execution_count": 30,
     "metadata": {},
     "output_type": "execute_result"
    }
   ],
   "source": [
    "df.isnull().sum()"
   ]
  },
  {
   "cell_type": "code",
   "execution_count": 31,
   "id": "ecbe3c64",
   "metadata": {},
   "outputs": [
    {
     "data": {
      "text/plain": [
       "<AxesSubplot:xlabel='class', ylabel='count'>"
      ]
     },
     "execution_count": 31,
     "metadata": {},
     "output_type": "execute_result"
    },
    {
     "data": {
      "image/png": "[encoded data removed]",
      "text/plain": [
       "<Figure size 432x288 with 1 Axes>"
      ]
     },
     "metadata": {
      "needs_background": "light"
     },
     "output_type": "display_data"
    }
   ],
   "source": [
    "sns.countplot(data=df,x=\"class\" )"
   ]
  },
  {
   "cell_type": "code",
   "execution_count": 32,
   "id": "e649027f",
   "metadata": {},
   "outputs": [
    {
     "data": {
      "text/plain": [
       "unacc    1209\n",
       "acc       384\n",
       "good       69\n",
       "vgood      65\n",
       "Name: class, dtype: int64"
      ]
     },
     "execution_count": 32,
     "metadata": {},
     "output_type": "execute_result"
    }
   ],
   "source": [
    "df[\"class\"].value_counts()"
   ]
  },
  {
   "cell_type": "code",
   "execution_count": 33,
   "id": "275ee79e",
   "metadata": {
    "scrolled": false
   },
   "outputs": [
    {
     "data": {
      "text/html": [
       "<div>\n",
       "<style scoped>\n",
       "    .dataframe tbody tr th:only-of-type {\n",
       "        vertical-align: middle;\n",
       "    }\n",
       "\n",
       "    .dataframe tbody tr th {\n",
       "        vertical-align: top;\n",
       "    }\n",
       "\n",
       "    .dataframe thead th {\n",
       "        text-align: right;\n",
       "    }\n",
       "</style>\n",
       "<table border=\"1\" class=\"dataframe\">\n",
       "  <thead>\n",
       "    <tr style=\"text-align: right;\">\n",
       "      <th></th>\n",
       "      <th>buying</th>\n",
       "      <th>maint</th>\n",
       "      <th>doors</th>\n",
       "      <th>persons</th>\n",
       "      <th>lug_boot</th>\n",
       "      <th>safety</th>\n",
       "      <th>class</th>\n",
       "    </tr>\n",
       "  </thead>\n",
       "  <tbody>\n",
       "    <tr>\n",
       "      <th>0</th>\n",
       "      <td>3</td>\n",
       "      <td>3</td>\n",
       "      <td>0</td>\n",
       "      <td>0</td>\n",
       "      <td>2</td>\n",
       "      <td>2</td>\n",
       "      <td>2</td>\n",
       "    </tr>\n",
       "    <tr>\n",
       "      <th>1</th>\n",
       "      <td>3</td>\n",
       "      <td>3</td>\n",
       "      <td>0</td>\n",
       "      <td>0</td>\n",
       "      <td>2</td>\n",
       "      <td>0</td>\n",
       "      <td>2</td>\n",
       "    </tr>\n",
       "    <tr>\n",
       "      <th>2</th>\n",
       "      <td>3</td>\n",
       "      <td>3</td>\n",
       "      <td>0</td>\n",
       "      <td>0</td>\n",
       "      <td>1</td>\n",
       "      <td>1</td>\n",
       "      <td>2</td>\n",
       "    </tr>\n",
       "    <tr>\n",
       "      <th>3</th>\n",
       "      <td>3</td>\n",
       "      <td>3</td>\n",
       "      <td>0</td>\n",
       "      <td>0</td>\n",
       "      <td>1</td>\n",
       "      <td>2</td>\n",
       "      <td>2</td>\n",
       "    </tr>\n",
       "    <tr>\n",
       "      <th>4</th>\n",
       "      <td>3</td>\n",
       "      <td>3</td>\n",
       "      <td>0</td>\n",
       "      <td>0</td>\n",
       "      <td>1</td>\n",
       "      <td>0</td>\n",
       "      <td>2</td>\n",
       "    </tr>\n",
       "  </tbody>\n",
       "</table>\n",
       "</div>"
      ],
      "text/plain": [
       "   buying  maint  doors  persons  lug_boot  safety  class\n",
       "0       3      3      0        0         2       2      2\n",
       "1       3      3      0        0         2       0      2\n",
       "2       3      3      0        0         1       1      2\n",
       "3       3      3      0        0         1       2      2\n",
       "4       3      3      0        0         1       0      2"
      ]
     },
     "execution_count": 33,
     "metadata": {},
     "output_type": "execute_result"
    }
   ],
   "source": [
    "le = LabelEncoder()\n",
    "for i in df.columns:\n",
    "    df[i] = le.fit_transform(df[i])\n",
    "    \n",
    "df.head()"
   ]
  },
  {
   "cell_type": "code",
   "execution_count": 34,
   "id": "83f549f7",
   "metadata": {},
   "outputs": [],
   "source": [
    "#Splitting the data into training and test test\n",
    "X = df.iloc[:,1:23].values\n",
    "y = df.iloc[:,0].values\n",
    "\n",
    "from sklearn.preprocessing import LabelEncoder\n",
    "encoder =  LabelEncoder()\n",
    "y1 = encoder.fit_transform(y)\n",
    "\n",
    "Y = pd.get_dummies(y1).values\n",
    "\n",
    "\n",
    "from sklearn.model_selection import train_test_split\n",
    "X_train,X_test, y_train,y_test = train_test_split(X,Y,test_size=0.2,random_state=0) "
   ]
  },
  {
   "cell_type": "code",
   "execution_count": 38,
   "id": "9e4df14a",
   "metadata": {
    "scrolled": true
   },
   "outputs": [
    {
     "data": {
      "text/plain": [
       "array([[3, 0, 0, 2, 2, 2],\n",
       "       [3, 0, 0, 2, 0, 2],\n",
       "       [3, 0, 0, 1, 1, 2],\n",
       "       ...,\n",
       "       [1, 3, 2, 0, 1, 2],\n",
       "       [1, 3, 2, 0, 2, 1],\n",
       "       [1, 3, 2, 0, 0, 3]])"
      ]
     },
     "execution_count": 38,
     "metadata": {},
     "output_type": "execute_result"
    }
   ],
   "source": [
    "X"
   ]
  },
  {
   "cell_type": "code",
   "execution_count": 39,
   "id": "bff1f12a",
   "metadata": {},
   "outputs": [
    {
     "data": {
      "text/plain": [
       "array([[0, 0, 0, 1],\n",
       "       [0, 0, 0, 1],\n",
       "       [0, 0, 0, 1],\n",
       "       ...,\n",
       "       [0, 1, 0, 0],\n",
       "       [0, 1, 0, 0],\n",
       "       [0, 1, 0, 0]], dtype=uint8)"
      ]
     },
     "execution_count": 39,
     "metadata": {},
     "output_type": "execute_result"
    }
   ],
   "source": [
    "Y"
   ]
  },
  {
   "cell_type": "code",
   "execution_count": 35,
   "id": "26b323a9",
   "metadata": {},
   "outputs": [],
   "source": [
    "from sklearn.preprocessing import LabelEncoder\n",
    "encoder =  LabelEncoder()\n",
    "y1 = encoder.fit_transform(y)\n",
    "\n",
    "Y = pd.get_dummies(y1).values"
   ]
  },
  {
   "cell_type": "code",
   "execution_count": 48,
   "id": "a13b2a25",
   "metadata": {},
   "outputs": [
    {
     "name": "stdout",
     "output_type": "stream",
     "text": [
      "Model: \"sequential_5\"\n",
      "_________________________________________________________________\n",
      " Layer (type)                Output Shape              Param #   \n",
      "=================================================================\n",
      " dense_22 (Dense)            (None, 10)                70        \n",
      "                                                                 \n",
      " dense_23 (Dense)            (None, 8)                 88        \n",
      "                                                                 \n",
      " dense_24 (Dense)            (None, 8)                 72        \n",
      "                                                                 \n",
      " dense_25 (Dense)            (None, 8)                 72        \n",
      "                                                                 \n",
      " dense_26 (Dense)            (None, 4)                 36        \n",
      "                                                                 \n",
      "=================================================================\n",
      "Total params: 338\n",
      "Trainable params: 338\n",
      "Non-trainable params: 0\n",
      "_________________________________________________________________\n"
     ]
    }
   ],
   "source": [
    "from keras.models import Sequential\n",
    "from keras.layers import Dense\n",
    "from keras.optimizers import SGD,Adam\n",
    "\n",
    "\n",
    "model = Sequential()\n",
    "\n",
    "model.add(Dense(10,input_shape=(6,),activation='relu'))\n",
    "model.add(Dense(8,activation='relu'))\n",
    "model.add(Dense(8,activation='relu'))\n",
    "model.add(Dense(8,activation='relu'))\n",
    "model.add(Dense(4,activation='sigmoid'))\n",
    "\n",
    "model.compile(Adam(lr=0.001),'categorical_crossentropy',metrics=['accuracy'])\n",
    "\n",
    "model.summary()"
   ]
  },
  {
   "cell_type": "code",
   "execution_count": 49,
   "id": "3f46aa88",
   "metadata": {
    "scrolled": false
   },
   "outputs": [
    {
     "name": "stdout",
     "output_type": "stream",
     "text": [
      "Epoch 1/100\n",
      "44/44 [==============================] - 1s 7ms/step - loss: 1.4881 - accuracy: 0.2505 - val_loss: 1.4146 - val_accuracy: 0.2630\n",
      "Epoch 2/100\n",
      "44/44 [==============================] - 0s 3ms/step - loss: 1.3927 - accuracy: 0.2563 - val_loss: 1.4027 - val_accuracy: 0.2428\n",
      "Epoch 3/100\n",
      "44/44 [==============================] - 0s 3ms/step - loss: 1.3875 - accuracy: 0.2715 - val_loss: 1.3998 - val_accuracy: 0.2457\n",
      "Epoch 4/100\n",
      "44/44 [==============================] - 0s 4ms/step - loss: 1.3858 - accuracy: 0.2744 - val_loss: 1.3982 - val_accuracy: 0.2514\n",
      "Epoch 5/100\n",
      "44/44 [==============================] - 0s 3ms/step - loss: 1.3838 - accuracy: 0.2781 - val_loss: 1.3962 - val_accuracy: 0.2601\n",
      "Epoch 6/100\n",
      "44/44 [==============================] - 0s 4ms/step - loss: 1.3824 - accuracy: 0.2889 - val_loss: 1.3960 - val_accuracy: 0.2601\n",
      "Epoch 7/100\n",
      "44/44 [==============================] - 0s 3ms/step - loss: 1.3813 - accuracy: 0.2839 - val_loss: 1.3947 - val_accuracy: 0.2630\n",
      "Epoch 8/100\n",
      "44/44 [==============================] - 0s 4ms/step - loss: 1.3797 - accuracy: 0.2839 - val_loss: 1.3930 - val_accuracy: 0.2630\n",
      "Epoch 9/100\n",
      "44/44 [==============================] - 0s 3ms/step - loss: 1.3791 - accuracy: 0.2947 - val_loss: 1.3922 - val_accuracy: 0.2601\n",
      "Epoch 10/100\n",
      "44/44 [==============================] - 0s 4ms/step - loss: 1.3775 - accuracy: 0.2882 - val_loss: 1.3904 - val_accuracy: 0.2486\n",
      "Epoch 11/100\n",
      "44/44 [==============================] - 0s 4ms/step - loss: 1.3764 - accuracy: 0.2998 - val_loss: 1.3900 - val_accuracy: 0.2457\n",
      "Epoch 12/100\n",
      "44/44 [==============================] - 0s 4ms/step - loss: 1.3748 - accuracy: 0.2896 - val_loss: 1.3881 - val_accuracy: 0.2543\n",
      "Epoch 13/100\n",
      "44/44 [==============================] - 0s 4ms/step - loss: 1.3735 - accuracy: 0.3034 - val_loss: 1.3855 - val_accuracy: 0.2572\n",
      "Epoch 14/100\n",
      "44/44 [==============================] - 0s 4ms/step - loss: 1.3713 - accuracy: 0.2925 - val_loss: 1.3832 - val_accuracy: 0.2543\n",
      "Epoch 15/100\n",
      "44/44 [==============================] - 0s 3ms/step - loss: 1.3698 - accuracy: 0.3049 - val_loss: 1.3830 - val_accuracy: 0.2399\n",
      "Epoch 16/100\n",
      "44/44 [==============================] - 0s 3ms/step - loss: 1.3687 - accuracy: 0.2918 - val_loss: 1.3804 - val_accuracy: 0.2514\n",
      "Epoch 17/100\n",
      "44/44 [==============================] - 0s 3ms/step - loss: 1.3676 - accuracy: 0.2976 - val_loss: 1.3797 - val_accuracy: 0.2572\n",
      "Epoch 18/100\n",
      "44/44 [==============================] - 0s 3ms/step - loss: 1.3674 - accuracy: 0.2817 - val_loss: 1.3789 - val_accuracy: 0.2572\n",
      "Epoch 19/100\n",
      "44/44 [==============================] - 0s 3ms/step - loss: 1.3663 - accuracy: 0.2991 - val_loss: 1.3786 - val_accuracy: 0.2572\n",
      "Epoch 20/100\n",
      "44/44 [==============================] - 0s 3ms/step - loss: 1.3645 - accuracy: 0.3020 - val_loss: 1.3780 - val_accuracy: 0.2428\n",
      "Epoch 21/100\n",
      "44/44 [==============================] - 0s 3ms/step - loss: 1.3647 - accuracy: 0.2983 - val_loss: 1.3772 - val_accuracy: 0.2688\n",
      "Epoch 22/100\n",
      "44/44 [==============================] - 0s 3ms/step - loss: 1.3644 - accuracy: 0.2846 - val_loss: 1.3766 - val_accuracy: 0.2630\n",
      "Epoch 23/100\n",
      "44/44 [==============================] - 0s 3ms/step - loss: 1.3634 - accuracy: 0.2976 - val_loss: 1.3779 - val_accuracy: 0.2486\n",
      "Epoch 24/100\n",
      "44/44 [==============================] - 0s 3ms/step - loss: 1.3630 - accuracy: 0.3020 - val_loss: 1.3765 - val_accuracy: 0.2572\n",
      "Epoch 25/100\n",
      "44/44 [==============================] - 0s 3ms/step - loss: 1.3617 - accuracy: 0.3056 - val_loss: 1.3768 - val_accuracy: 0.2543\n",
      "Epoch 26/100\n",
      "44/44 [==============================] - 0s 3ms/step - loss: 1.3608 - accuracy: 0.2954 - val_loss: 1.3764 - val_accuracy: 0.2486\n",
      "Epoch 27/100\n",
      "44/44 [==============================] - 0s 3ms/step - loss: 1.3602 - accuracy: 0.3077 - val_loss: 1.3760 - val_accuracy: 0.2572\n",
      "Epoch 28/100\n",
      "44/44 [==============================] - 0s 3ms/step - loss: 1.3594 - accuracy: 0.3106 - val_loss: 1.3752 - val_accuracy: 0.2486\n",
      "Epoch 29/100\n",
      "44/44 [==============================] - 0s 3ms/step - loss: 1.3585 - accuracy: 0.3056 - val_loss: 1.3749 - val_accuracy: 0.2428\n",
      "Epoch 30/100\n",
      "44/44 [==============================] - 0s 3ms/step - loss: 1.3574 - accuracy: 0.3092 - val_loss: 1.3757 - val_accuracy: 0.2254\n",
      "Epoch 31/100\n",
      "44/44 [==============================] - 0s 3ms/step - loss: 1.3568 - accuracy: 0.3135 - val_loss: 1.3755 - val_accuracy: 0.2283\n",
      "Epoch 32/100\n",
      "44/44 [==============================] - 0s 3ms/step - loss: 1.3563 - accuracy: 0.3128 - val_loss: 1.3748 - val_accuracy: 0.2399\n",
      "Epoch 33/100\n",
      "44/44 [==============================] - 0s 3ms/step - loss: 1.3564 - accuracy: 0.3012 - val_loss: 1.3748 - val_accuracy: 0.2254\n",
      "Epoch 34/100\n",
      "44/44 [==============================] - 0s 3ms/step - loss: 1.3572 - accuracy: 0.3070 - val_loss: 1.3744 - val_accuracy: 0.2399\n",
      "Epoch 35/100\n",
      "44/44 [==============================] - 0s 3ms/step - loss: 1.3540 - accuracy: 0.3150 - val_loss: 1.3756 - val_accuracy: 0.2254\n",
      "Epoch 36/100\n",
      "44/44 [==============================] - 0s 2ms/step - loss: 1.3537 - accuracy: 0.3172 - val_loss: 1.3752 - val_accuracy: 0.2197\n",
      "Epoch 37/100\n",
      "44/44 [==============================] - 0s 2ms/step - loss: 1.3536 - accuracy: 0.3085 - val_loss: 1.3748 - val_accuracy: 0.2341\n",
      "Epoch 38/100\n",
      "44/44 [==============================] - 0s 3ms/step - loss: 1.3522 - accuracy: 0.3135 - val_loss: 1.3744 - val_accuracy: 0.2283\n",
      "Epoch 39/100\n",
      "44/44 [==============================] - 0s 3ms/step - loss: 1.3517 - accuracy: 0.3121 - val_loss: 1.3758 - val_accuracy: 0.2312\n",
      "Epoch 40/100\n",
      "44/44 [==============================] - 0s 3ms/step - loss: 1.3518 - accuracy: 0.3143 - val_loss: 1.3754 - val_accuracy: 0.2254\n",
      "Epoch 41/100\n",
      "44/44 [==============================] - 0s 3ms/step - loss: 1.3495 - accuracy: 0.3121 - val_loss: 1.3748 - val_accuracy: 0.2254\n",
      "Epoch 42/100\n",
      "44/44 [==============================] - 0s 2ms/step - loss: 1.3496 - accuracy: 0.3034 - val_loss: 1.3754 - val_accuracy: 0.2370\n",
      "Epoch 43/100\n",
      "44/44 [==============================] - 0s 2ms/step - loss: 1.3493 - accuracy: 0.3251 - val_loss: 1.3749 - val_accuracy: 0.2168\n",
      "Epoch 44/100\n",
      "44/44 [==============================] - 0s 2ms/step - loss: 1.3480 - accuracy: 0.3193 - val_loss: 1.3747 - val_accuracy: 0.2370\n",
      "Epoch 45/100\n",
      "44/44 [==============================] - 0s 2ms/step - loss: 1.3473 - accuracy: 0.3099 - val_loss: 1.3740 - val_accuracy: 0.2428\n",
      "Epoch 46/100\n",
      "44/44 [==============================] - 0s 2ms/step - loss: 1.3481 - accuracy: 0.3114 - val_loss: 1.3734 - val_accuracy: 0.2341\n",
      "Epoch 47/100\n",
      "44/44 [==============================] - 0s 2ms/step - loss: 1.3469 - accuracy: 0.3020 - val_loss: 1.3735 - val_accuracy: 0.2341\n",
      "Epoch 48/100\n",
      "44/44 [==============================] - 0s 2ms/step - loss: 1.3487 - accuracy: 0.3099 - val_loss: 1.3740 - val_accuracy: 0.2254\n",
      "Epoch 49/100\n",
      "44/44 [==============================] - 0s 2ms/step - loss: 1.3457 - accuracy: 0.3172 - val_loss: 1.3743 - val_accuracy: 0.2428\n",
      "Epoch 50/100\n",
      "44/44 [==============================] - 0s 2ms/step - loss: 1.3439 - accuracy: 0.3135 - val_loss: 1.3750 - val_accuracy: 0.2168\n",
      "Epoch 51/100\n",
      "44/44 [==============================] - 0s 2ms/step - loss: 1.3441 - accuracy: 0.3157 - val_loss: 1.3739 - val_accuracy: 0.2254\n",
      "Epoch 52/100\n",
      "44/44 [==============================] - 0s 2ms/step - loss: 1.3435 - accuracy: 0.3070 - val_loss: 1.3738 - val_accuracy: 0.2197\n",
      "Epoch 53/100\n",
      "44/44 [==============================] - 0s 2ms/step - loss: 1.3422 - accuracy: 0.3157 - val_loss: 1.3723 - val_accuracy: 0.2254\n",
      "Epoch 54/100\n",
      "44/44 [==============================] - 0s 2ms/step - loss: 1.3420 - accuracy: 0.3128 - val_loss: 1.3735 - val_accuracy: 0.2312\n",
      "Epoch 55/100\n",
      "44/44 [==============================] - 0s 2ms/step - loss: 1.3422 - accuracy: 0.3135 - val_loss: 1.3721 - val_accuracy: 0.2283\n",
      "Epoch 56/100\n",
      "44/44 [==============================] - 0s 2ms/step - loss: 1.3405 - accuracy: 0.3186 - val_loss: 1.3729 - val_accuracy: 0.2225\n",
      "Epoch 57/100\n",
      "44/44 [==============================] - 0s 3ms/step - loss: 1.3396 - accuracy: 0.3208 - val_loss: 1.3734 - val_accuracy: 0.2197\n",
      "Epoch 58/100\n",
      "44/44 [==============================] - 0s 2ms/step - loss: 1.3387 - accuracy: 0.3172 - val_loss: 1.3771 - val_accuracy: 0.2341\n"
     ]
    },
    {
     "name": "stdout",
     "output_type": "stream",
     "text": [
      "Epoch 59/100\n",
      "44/44 [==============================] - 0s 2ms/step - loss: 1.3396 - accuracy: 0.3230 - val_loss: 1.3741 - val_accuracy: 0.2197\n",
      "Epoch 60/100\n",
      "44/44 [==============================] - 0s 2ms/step - loss: 1.3368 - accuracy: 0.3259 - val_loss: 1.3736 - val_accuracy: 0.2283\n",
      "Epoch 61/100\n",
      "44/44 [==============================] - 0s 2ms/step - loss: 1.3369 - accuracy: 0.3280 - val_loss: 1.3726 - val_accuracy: 0.2197\n",
      "Epoch 62/100\n",
      "44/44 [==============================] - 0s 3ms/step - loss: 1.3365 - accuracy: 0.3208 - val_loss: 1.3755 - val_accuracy: 0.2341\n",
      "Epoch 63/100\n",
      "44/44 [==============================] - 0s 2ms/step - loss: 1.3372 - accuracy: 0.3172 - val_loss: 1.3740 - val_accuracy: 0.2341\n",
      "Epoch 64/100\n",
      "44/44 [==============================] - 0s 2ms/step - loss: 1.3361 - accuracy: 0.3266 - val_loss: 1.3714 - val_accuracy: 0.2312\n",
      "Epoch 65/100\n",
      "44/44 [==============================] - 0s 2ms/step - loss: 1.3343 - accuracy: 0.3266 - val_loss: 1.3729 - val_accuracy: 0.2312\n",
      "Epoch 66/100\n",
      "44/44 [==============================] - 0s 2ms/step - loss: 1.3336 - accuracy: 0.3280 - val_loss: 1.3717 - val_accuracy: 0.2370\n",
      "Epoch 67/100\n",
      "44/44 [==============================] - 0s 2ms/step - loss: 1.3318 - accuracy: 0.3150 - val_loss: 1.3711 - val_accuracy: 0.2254\n",
      "Epoch 68/100\n",
      "44/44 [==============================] - 0s 2ms/step - loss: 1.3307 - accuracy: 0.3287 - val_loss: 1.3730 - val_accuracy: 0.2370\n",
      "Epoch 69/100\n",
      "44/44 [==============================] - 0s 2ms/step - loss: 1.3294 - accuracy: 0.3244 - val_loss: 1.3705 - val_accuracy: 0.2168\n",
      "Epoch 70/100\n",
      "44/44 [==============================] - 0s 2ms/step - loss: 1.3303 - accuracy: 0.3179 - val_loss: 1.3705 - val_accuracy: 0.2139\n",
      "Epoch 71/100\n",
      "44/44 [==============================] - 0s 2ms/step - loss: 1.3286 - accuracy: 0.3345 - val_loss: 1.3729 - val_accuracy: 0.2139\n",
      "Epoch 72/100\n",
      "44/44 [==============================] - 0s 2ms/step - loss: 1.3277 - accuracy: 0.3316 - val_loss: 1.3713 - val_accuracy: 0.2197\n",
      "Epoch 73/100\n",
      "44/44 [==============================] - 0s 2ms/step - loss: 1.3267 - accuracy: 0.3295 - val_loss: 1.3701 - val_accuracy: 0.2283\n",
      "Epoch 74/100\n",
      "44/44 [==============================] - 0s 2ms/step - loss: 1.3250 - accuracy: 0.3338 - val_loss: 1.3707 - val_accuracy: 0.2283\n",
      "Epoch 75/100\n",
      "44/44 [==============================] - 0s 2ms/step - loss: 1.3258 - accuracy: 0.3287 - val_loss: 1.3719 - val_accuracy: 0.2168\n",
      "Epoch 76/100\n",
      "44/44 [==============================] - 0s 2ms/step - loss: 1.3257 - accuracy: 0.3237 - val_loss: 1.3695 - val_accuracy: 0.2197\n",
      "Epoch 77/100\n",
      "44/44 [==============================] - 0s 2ms/step - loss: 1.3245 - accuracy: 0.3259 - val_loss: 1.3681 - val_accuracy: 0.2197\n",
      "Epoch 78/100\n",
      "44/44 [==============================] - 0s 2ms/step - loss: 1.3225 - accuracy: 0.3287 - val_loss: 1.3686 - val_accuracy: 0.2225\n",
      "Epoch 79/100\n",
      "44/44 [==============================] - 0s 2ms/step - loss: 1.3262 - accuracy: 0.3316 - val_loss: 1.3700 - val_accuracy: 0.2254\n",
      "Epoch 80/100\n",
      "44/44 [==============================] - 0s 2ms/step - loss: 1.3221 - accuracy: 0.3259 - val_loss: 1.3754 - val_accuracy: 0.2139\n",
      "Epoch 81/100\n",
      "44/44 [==============================] - 0s 2ms/step - loss: 1.3238 - accuracy: 0.3273 - val_loss: 1.3679 - val_accuracy: 0.2168\n",
      "Epoch 82/100\n",
      "44/44 [==============================] - 0s 2ms/step - loss: 1.3184 - accuracy: 0.3425 - val_loss: 1.3840 - val_accuracy: 0.2168\n",
      "Epoch 83/100\n",
      "44/44 [==============================] - 0s 3ms/step - loss: 1.3211 - accuracy: 0.3396 - val_loss: 1.3716 - val_accuracy: 0.2052\n",
      "Epoch 84/100\n",
      "44/44 [==============================] - 0s 2ms/step - loss: 1.3185 - accuracy: 0.3382 - val_loss: 1.3708 - val_accuracy: 0.2225\n",
      "Epoch 85/100\n",
      "44/44 [==============================] - 0s 2ms/step - loss: 1.3195 - accuracy: 0.3266 - val_loss: 1.3711 - val_accuracy: 0.2110\n",
      "Epoch 86/100\n",
      "44/44 [==============================] - 0s 2ms/step - loss: 1.3184 - accuracy: 0.3353 - val_loss: 1.3693 - val_accuracy: 0.1994\n",
      "Epoch 87/100\n",
      "44/44 [==============================] - 0s 2ms/step - loss: 1.3169 - accuracy: 0.3309 - val_loss: 1.3692 - val_accuracy: 0.2110\n",
      "Epoch 88/100\n",
      "44/44 [==============================] - 0s 2ms/step - loss: 1.3165 - accuracy: 0.3389 - val_loss: 1.3676 - val_accuracy: 0.2139\n",
      "Epoch 89/100\n",
      "44/44 [==============================] - 0s 2ms/step - loss: 1.3140 - accuracy: 0.3411 - val_loss: 1.3645 - val_accuracy: 0.2110\n",
      "Epoch 90/100\n",
      "44/44 [==============================] - 0s 3ms/step - loss: 1.3172 - accuracy: 0.3345 - val_loss: 1.3669 - val_accuracy: 0.2139\n",
      "Epoch 91/100\n",
      "44/44 [==============================] - 0s 3ms/step - loss: 1.3148 - accuracy: 0.3345 - val_loss: 1.3640 - val_accuracy: 0.2139\n",
      "Epoch 92/100\n",
      "44/44 [==============================] - 0s 3ms/step - loss: 1.3155 - accuracy: 0.3382 - val_loss: 1.3660 - val_accuracy: 0.2168\n",
      "Epoch 93/100\n",
      "44/44 [==============================] - 0s 2ms/step - loss: 1.3149 - accuracy: 0.3331 - val_loss: 1.3673 - val_accuracy: 0.2197\n",
      "Epoch 94/100\n",
      "44/44 [==============================] - 0s 2ms/step - loss: 1.3116 - accuracy: 0.3353 - val_loss: 1.3653 - val_accuracy: 0.2197\n",
      "Epoch 95/100\n",
      "44/44 [==============================] - 0s 3ms/step - loss: 1.3118 - accuracy: 0.3418 - val_loss: 1.3663 - val_accuracy: 0.2110\n",
      "Epoch 96/100\n",
      "44/44 [==============================] - 0s 3ms/step - loss: 1.3109 - accuracy: 0.3396 - val_loss: 1.3698 - val_accuracy: 0.2197\n",
      "Epoch 97/100\n",
      "44/44 [==============================] - 0s 2ms/step - loss: 1.3108 - accuracy: 0.3382 - val_loss: 1.3675 - val_accuracy: 0.2081\n",
      "Epoch 98/100\n",
      "44/44 [==============================] - 0s 2ms/step - loss: 1.3107 - accuracy: 0.3353 - val_loss: 1.3670 - val_accuracy: 0.2052\n",
      "Epoch 99/100\n",
      "44/44 [==============================] - 0s 3ms/step - loss: 1.3098 - accuracy: 0.3476 - val_loss: 1.3634 - val_accuracy: 0.2197\n",
      "Epoch 100/100\n",
      "44/44 [==============================] - 0s 3ms/step - loss: 1.3094 - accuracy: 0.3353 - val_loss: 1.3630 - val_accuracy: 0.2225\n",
      "11/11 [==============================] - 0s 1ms/step\n"
     ]
    }
   ],
   "source": [
    "model_history=model.fit(x=X_train, y=y_train, epochs=100, batch_size=32,validation_data= (X_test,y_test))\n",
    "y_pred = model.predict(X_test)\n",
    "\n",
    "y_test_class = np.argmax(y_test,axis=1)\n",
    "y_pred_class = np.argmax(y_pred,axis=1)"
   ]
  },
  {
   "cell_type": "code",
   "execution_count": 42,
   "id": "c9ab3d1c",
   "metadata": {},
   "outputs": [
    {
     "name": "stdout",
     "output_type": "stream",
     "text": [
      "              precision    recall  f1-score   support\n",
      "\n",
      "           0       0.36      0.11      0.17        83\n",
      "           1       0.26      0.41      0.32        87\n",
      "           2       0.24      0.09      0.13        91\n",
      "           3       0.29      0.49      0.36        85\n",
      "\n",
      "    accuracy                           0.27       346\n",
      "   macro avg       0.28      0.28      0.24       346\n",
      "weighted avg       0.28      0.27      0.24       346\n",
      "\n",
      "[[ 9 26  7 41]\n",
      " [ 2 36 17 32]\n",
      " [ 7 44  8 32]\n",
      " [ 7 34  2 42]]\n"
     ]
    }
   ],
   "source": [
    "from sklearn.metrics import classification_report,confusion_matrix\n",
    "print(classification_report(y_test_class,y_pred_class))\n",
    "print(confusion_matrix(y_test_class,y_pred_class))"
   ]
  },
  {
   "cell_type": "code",
   "execution_count": 40,
   "id": "299b9f29",
   "metadata": {},
   "outputs": [
    {
     "data": {
      "image/png": "[encoded data removed]",
      "text/plain": [
       "<Figure size 432x288 with 1 Axes>"
      ]
     },
     "metadata": {
      "needs_background": "light"
     },
     "output_type": "display_data"
    }
   ],
   "source": [
    "import matplotlib.pyplot as plt\n",
    "import seaborn as sns\n",
    "\n",
    "loss =model_history.history['loss']\n",
    "val_loss =model_history.history['val_loss']\n",
    "epochs = range(1, len(loss) + 1)\n",
    "plt.plot(epochs, loss, 'y', label='Training loss')\n",
    "plt.plot(epochs, val_loss, 'r', label='Validation loss')\n",
    "plt.title('Training and validation loss')\n",
    "plt.xlabel('Epochs')\n",
    "plt.ylabel('Loss')\n",
    "plt.legend()\n",
    "plt.show()"
   ]
  },
  {
   "cell_type": "code",
   "execution_count": 41,
   "id": "77540fb4",
   "metadata": {},
   "outputs": [
    {
     "data": {
      "image/png": "[encoded data removed]",
      "text/plain": [
       "<Figure size 432x288 with 1 Axes>"
      ]
     },
     "metadata": {
      "needs_background": "light"
     },
     "output_type": "display_data"
    }
   ],
   "source": [
    "acc =model_history.history['accuracy']\n",
    "val_acc =model_history.history['val_accuracy']\n",
    "plt.plot(epochs, acc, 'y', label='Training acc')\n",
    "plt.plot(epochs, val_acc, 'r', label='Validation acc')\n",
    "plt.title('Training and validation accuracy')\n",
    "plt.xlabel('Epochs')\n",
    "plt.ylabel('Accuracy')\n",
    "plt.legend()\n",
    "plt.show()"
   ]
  },
  {
   "cell_type": "code",
   "execution_count": null,
   "id": "85ad7d0c",
   "metadata": {},
   "outputs": [],
   "source": []
  },
  {
   "cell_type": "code",
   "execution_count": null,
   "id": "abf0cb15",
   "metadata": {},
   "outputs": [],
   "source": []
  }
 ],
 "metadata": {
  "kernelspec": {
   "display_name": "Python 3 (ipykernel)",
   "language": "python",
   "name": "python3"
  },
  "language_info": {
   "codemirror_mode": {
    "name": "ipython",
    "version": 3
   },
   "file_extension": ".py",
   "mimetype": "text/x-python",
   "name": "python",
   "nbconvert_exporter": "python",
   "pygments_lexer": "ipython3",
   "version": "3.9.12"
  }
 },
 "nbformat": 4,
 "nbformat_minor": 5
}
